{
  "nbformat": 4,
  "nbformat_minor": 0,
  "metadata": {
    "colab": {
      "name": "yozoo_Assignment.ipynb",
      "provenance": [],
      "collapsed_sections": [],
      "include_colab_link": true
    },
    "kernelspec": {
      "name": "python3",
      "display_name": "Python 3"
    }
  },
  "cells": [
    {
      "cell_type": "markdown",
      "metadata": {
        "id": "view-in-github",
        "colab_type": "text"
      },
      "source": [
        "<a href=\"https://colab.research.google.com/github/sachinkun21/Data-Analytics/blob/master/yozoo_Assignment.ipynb\" target=\"_parent\"><img src=\"https://colab.research.google.com/assets/colab-badge.svg\" alt=\"Open In Colab\"/></a>"
      ]
    },
    {
      "cell_type": "markdown",
      "metadata": {
        "id": "FttFpiXiHYD8",
        "colab_type": "text"
      },
      "source": [
        "### Introduction:\n",
        "We have 3 excel sheets containing Data related to a subscription based Video Game.\n",
        "The description of Each Sheet is given below:\n",
        "- Session: This Sheet contains data related to logging into game by users.\n",
        "- Level: This Sheet contains Data related to users and their game progression.\n",
        "- Spender: This sheet contains data related to money spent by the users/players of the game on different in-app purchases and combos\n",
        "\n",
        "\n",
        "#### **Objective: The goal of analysis is to load the Data set, perform analysis and answer following Questions:**\n",
        "QUESTIONS-\n",
        "1. From the given Dataset, determine and analyze Day 1, Day 3, Day 7, Day 15 and Day 30\n",
        "Retention. (Refer to Session start tab)\n",
        "2. Create a Funnel of level progression and determine if any areas of the game are acting as\n",
        "blockers. (Refer to Level Start tab). Also, identify how many times levels are replayed.\n",
        "3. What percentage of users make first time purchases between levels 1 to 7? (Refer to Spenders\n",
        "tab)\n",
        "4. What percentage of users make a repeat purchase? At what level maximum repeat purchases\n",
        "happen? (Refer to Spenders tab)\n",
        "5. Which packs generate the maximum revenue? (Refer to Spenders tab)"
      ]
    },
    {
      "cell_type": "markdown",
      "metadata": {
        "id": "8SskqZyxHZIz",
        "colab_type": "text"
      },
      "source": [
        "Important Data features/ Columns are given below:\n",
        "- Session: Current session of the user. Every time the user opens the game(app) session gets incremented.\n",
        "So, the first session would be 1 and every time the user will open the app the session number\n",
        "will increase.\n",
        "- Level: The current level of the user. \n",
        "\n",
        "\n",
        "Funneling: The funnel won't need that many fields to work with. Think of it as something very similar to\n",
        "a sales funnel. We just want to see a representation of how many players are progressing across every\n",
        "level. Then you may derive insights using that to find if any particular levels are more difficult, thus may\n",
        "act as blockers."
      ]
    },
    {
      "cell_type": "markdown",
      "metadata": {
        "id": "OcQL10AFkJ7J",
        "colab_type": "text"
      },
      "source": [
        "**Tech Stack:**\n",
        "I am Going to use Python using jupyter Notebook hosted on Google Colab.\n",
        "along with libraries such as numpy and pandas for caclulations, Matplotlib seaborn for visualization"
      ]
    },
    {
      "cell_type": "code",
      "metadata": {
        "id": "g5tUmwfYHYc8",
        "colab_type": "code",
        "colab": {}
      },
      "source": [
        ""
      ],
      "execution_count": 0,
      "outputs": []
    },
    {
      "cell_type": "markdown",
      "metadata": {
        "id": "SU7-4vWhj_dy",
        "colab_type": "text"
      },
      "source": [
        "#### Importing Libraries "
      ]
    },
    {
      "cell_type": "code",
      "metadata": {
        "id": "pXDXhdNIEGk-",
        "colab_type": "code",
        "colab": {}
      },
      "source": [
        "import pandas as pd\n",
        "import numpy as np\n",
        "import seaborn as sns\n",
        "import matplotlib.pyplot as plt\n"
      ],
      "execution_count": 0,
      "outputs": []
    },
    {
      "cell_type": "markdown",
      "metadata": {
        "id": "hXoajiIUkuuA",
        "colab_type": "text"
      },
      "source": [
        "Mounting Drive to load the Dataset"
      ]
    },
    {
      "cell_type": "code",
      "metadata": {
        "id": "ajRgzHqrETTS",
        "colab_type": "code",
        "outputId": "8d2ca7ac-ab91-4763-9e8f-97a00dda7693",
        "colab": {
          "base_uri": "https://localhost:8080/",
          "height": 35
        }
      },
      "source": [
        "from google.colab import drive\n",
        "drive.mount('/content/drive')\n"
      ],
      "execution_count": 2,
      "outputs": [
        {
          "output_type": "stream",
          "text": [
            "Drive already mounted at /content/drive; to attempt to forcibly remount, call drive.mount(\"/content/drive\", force_remount=True).\n"
          ],
          "name": "stdout"
        }
      ]
    },
    {
      "cell_type": "code",
      "metadata": {
        "id": "_CnShHkoENft",
        "colab_type": "code",
        "outputId": "837a3cbc-23ec-4efa-8dbe-6db7f8457b2e",
        "colab": {
          "base_uri": "https://localhost:8080/",
          "height": 35
        }
      },
      "source": [
        "ls '/content/drive/My Drive/DataScience'"
      ],
      "execution_count": 3,
      "outputs": [
        {
          "output_type": "stream",
          "text": [
            "Assignment.docx  Dataset.xlsx  Employee.csv  Employee_HR.csv  transaction.csv\n"
          ],
          "name": "stdout"
        }
      ]
    },
    {
      "cell_type": "markdown",
      "metadata": {
        "id": "okk8zr2pk04x",
        "colab_type": "text"
      },
      "source": [
        "#### **Loading the Datset:**\n",
        "Let's load all three sheets into 3 Datframes using pandas read_excel"
      ]
    },
    {
      "cell_type": "code",
      "metadata": {
        "id": "h-wlvJVREnlR",
        "colab_type": "code",
        "outputId": "52498bdd-b366-4b8e-883c-8cf68e5ce700",
        "colab": {
          "base_uri": "https://localhost:8080/",
          "height": 202
        }
      },
      "source": [
        "# Loading levels Data\n",
        "df_level_start = pd.read_excel('/content/drive/My Drive/DataScience/Dataset.xlsx', parse_dates=['event_date','event_time'])\n",
        "\n",
        "# printing top 5 rows\n",
        "df_level_start.head()"
      ],
      "execution_count": 4,
      "outputs": [
        {
          "output_type": "execute_result",
          "data": {
            "text/html": [
              "<div>\n",
              "<style scoped>\n",
              "    .dataframe tbody tr th:only-of-type {\n",
              "        vertical-align: middle;\n",
              "    }\n",
              "\n",
              "    .dataframe tbody tr th {\n",
              "        vertical-align: top;\n",
              "    }\n",
              "\n",
              "    .dataframe thead th {\n",
              "        text-align: right;\n",
              "    }\n",
              "</style>\n",
              "<table border=\"1\" class=\"dataframe\">\n",
              "  <thead>\n",
              "    <tr style=\"text-align: right;\">\n",
              "      <th></th>\n",
              "      <th>user_id</th>\n",
              "      <th>event_date</th>\n",
              "      <th>event_time</th>\n",
              "      <th>Level__ID</th>\n",
              "      <th>session_nb</th>\n",
              "    </tr>\n",
              "  </thead>\n",
              "  <tbody>\n",
              "    <tr>\n",
              "      <th>0</th>\n",
              "      <td>6BED1A04-43A3-431D-B908-5CD3E3843B5C</td>\n",
              "      <td>2015-10-14</td>\n",
              "      <td>2015-10-14 10:28:14</td>\n",
              "      <td>18</td>\n",
              "      <td>4</td>\n",
              "    </tr>\n",
              "    <tr>\n",
              "      <th>1</th>\n",
              "      <td>FEAE206C-02E5-4610-B2A5-0EC5CBC73BBD</td>\n",
              "      <td>2015-10-14</td>\n",
              "      <td>2015-10-14 10:01:51</td>\n",
              "      <td>13</td>\n",
              "      <td>9</td>\n",
              "    </tr>\n",
              "    <tr>\n",
              "      <th>2</th>\n",
              "      <td>DC155AB7-3728-4E8D-A933-1BD7A0BC993A</td>\n",
              "      <td>2015-10-14</td>\n",
              "      <td>2015-10-14 09:24:43</td>\n",
              "      <td>1</td>\n",
              "      <td>3</td>\n",
              "    </tr>\n",
              "    <tr>\n",
              "      <th>3</th>\n",
              "      <td>6BED1A04-43A3-431D-B908-5CD3E3843B5C</td>\n",
              "      <td>2015-10-14</td>\n",
              "      <td>2015-10-14 09:16:08</td>\n",
              "      <td>15</td>\n",
              "      <td>3</td>\n",
              "    </tr>\n",
              "    <tr>\n",
              "      <th>4</th>\n",
              "      <td>6BED1A04-43A3-431D-B908-5CD3E3843B5C</td>\n",
              "      <td>2015-10-14</td>\n",
              "      <td>2015-10-14 09:17:07</td>\n",
              "      <td>15</td>\n",
              "      <td>3</td>\n",
              "    </tr>\n",
              "  </tbody>\n",
              "</table>\n",
              "</div>"
            ],
            "text/plain": [
              "                                user_id event_date  ... Level__ID  session_nb\n",
              "0  6BED1A04-43A3-431D-B908-5CD3E3843B5C 2015-10-14  ...        18           4\n",
              "1  FEAE206C-02E5-4610-B2A5-0EC5CBC73BBD 2015-10-14  ...        13           9\n",
              "2  DC155AB7-3728-4E8D-A933-1BD7A0BC993A 2015-10-14  ...         1           3\n",
              "3  6BED1A04-43A3-431D-B908-5CD3E3843B5C 2015-10-14  ...        15           3\n",
              "4  6BED1A04-43A3-431D-B908-5CD3E3843B5C 2015-10-14  ...        15           3\n",
              "\n",
              "[5 rows x 5 columns]"
            ]
          },
          "metadata": {
            "tags": []
          },
          "execution_count": 4
        }
      ]
    },
    {
      "cell_type": "code",
      "metadata": {
        "id": "z9HAF56pJAmF",
        "colab_type": "code",
        "outputId": "3d5282ed-df05-4668-f252-facf228a80ee",
        "colab": {
          "base_uri": "https://localhost:8080/",
          "height": 202
        }
      },
      "source": [
        "# Loading spenders data\n",
        "df_spenders = pd.read_excel('/content/drive/My Drive/DataScience/Dataset.xlsx', parse_dates=['event_date','event_time'], sheet_name = 1)\n",
        "\n",
        "# printing top 5 rows\n",
        "df_spenders.head()"
      ],
      "execution_count": 5,
      "outputs": [
        {
          "output_type": "execute_result",
          "data": {
            "text/html": [
              "<div>\n",
              "<style scoped>\n",
              "    .dataframe tbody tr th:only-of-type {\n",
              "        vertical-align: middle;\n",
              "    }\n",
              "\n",
              "    .dataframe tbody tr th {\n",
              "        vertical-align: top;\n",
              "    }\n",
              "\n",
              "    .dataframe thead th {\n",
              "        text-align: right;\n",
              "    }\n",
              "</style>\n",
              "<table border=\"1\" class=\"dataframe\">\n",
              "  <thead>\n",
              "    <tr style=\"text-align: right;\">\n",
              "      <th></th>\n",
              "      <th>user_id</th>\n",
              "      <th>event_date</th>\n",
              "      <th>event_time</th>\n",
              "      <th>Level</th>\n",
              "      <th>session_nb</th>\n",
              "      <th>Pack Name</th>\n",
              "      <th>money Spent</th>\n",
              "      <th>money_currency</th>\n",
              "    </tr>\n",
              "  </thead>\n",
              "  <tbody>\n",
              "    <tr>\n",
              "      <th>0</th>\n",
              "      <td>8BF191CF-567A-4977-B2C9-90EC756EFD41</td>\n",
              "      <td>2015-10-01</td>\n",
              "      <td>2015-10-01 05:07:43</td>\n",
              "      <td>3</td>\n",
              "      <td>1</td>\n",
              "      <td>Shop 5750 Tokens</td>\n",
              "      <td>99.989998</td>\n",
              "      <td>EUR</td>\n",
              "    </tr>\n",
              "    <tr>\n",
              "      <th>1</th>\n",
              "      <td>936BAA84-CDE9-4C8F-A949-5E2CB077A9CE</td>\n",
              "      <td>2015-09-28</td>\n",
              "      <td>2015-09-28 06:22:52</td>\n",
              "      <td>1</td>\n",
              "      <td>1</td>\n",
              "      <td>Shop 17500 Orbs</td>\n",
              "      <td>1.990000</td>\n",
              "      <td>EUR</td>\n",
              "    </tr>\n",
              "    <tr>\n",
              "      <th>2</th>\n",
              "      <td>52807659-0332-486C-99E4-84429A1830F3</td>\n",
              "      <td>2015-09-22</td>\n",
              "      <td>2015-09-22 10:54:39</td>\n",
              "      <td>14</td>\n",
              "      <td>1</td>\n",
              "      <td>Shop 490000 Orbs</td>\n",
              "      <td>49.990002</td>\n",
              "      <td>EUR</td>\n",
              "    </tr>\n",
              "    <tr>\n",
              "      <th>3</th>\n",
              "      <td>1CE1D120-D2FA-4DAF-80D2-9C5BBDCFB9A5</td>\n",
              "      <td>2015-10-17</td>\n",
              "      <td>2015-10-17 11:25:49</td>\n",
              "      <td>23</td>\n",
              "      <td>5</td>\n",
              "      <td>Shop 510 Tokens</td>\n",
              "      <td>9.990000</td>\n",
              "      <td>EUR</td>\n",
              "    </tr>\n",
              "    <tr>\n",
              "      <th>4</th>\n",
              "      <td>1CE1D120-D2FA-4DAF-80D2-9C5BBDCFB9A5</td>\n",
              "      <td>2015-10-17</td>\n",
              "      <td>2015-10-17 11:23:50</td>\n",
              "      <td>23</td>\n",
              "      <td>5</td>\n",
              "      <td>Shop 100 Tokens</td>\n",
              "      <td>1.990000</td>\n",
              "      <td>EUR</td>\n",
              "    </tr>\n",
              "  </tbody>\n",
              "</table>\n",
              "</div>"
            ],
            "text/plain": [
              "                                user_id event_date  ... money Spent  money_currency\n",
              "0  8BF191CF-567A-4977-B2C9-90EC756EFD41 2015-10-01  ...   99.989998             EUR\n",
              "1  936BAA84-CDE9-4C8F-A949-5E2CB077A9CE 2015-09-28  ...    1.990000             EUR\n",
              "2  52807659-0332-486C-99E4-84429A1830F3 2015-09-22  ...   49.990002             EUR\n",
              "3  1CE1D120-D2FA-4DAF-80D2-9C5BBDCFB9A5 2015-10-17  ...    9.990000             EUR\n",
              "4  1CE1D120-D2FA-4DAF-80D2-9C5BBDCFB9A5 2015-10-17  ...    1.990000             EUR\n",
              "\n",
              "[5 rows x 8 columns]"
            ]
          },
          "metadata": {
            "tags": []
          },
          "execution_count": 5
        }
      ]
    },
    {
      "cell_type": "code",
      "metadata": {
        "id": "KGROukxVJAgx",
        "colab_type": "code",
        "outputId": "7bb975cf-f227-477b-bc3a-500fd7297edc",
        "colab": {
          "base_uri": "https://localhost:8080/",
          "height": 202
        }
      },
      "source": [
        "# Loading Session data\n",
        "df_session_start = pd.read_excel('/content/drive/My Drive/DataScience/Dataset.xlsx', parse_dates=['event_date','event_time'], sheet_name = 2)\n",
        "\n",
        "# printing top 5 rows\n",
        "df_session_start.head()"
      ],
      "execution_count": 6,
      "outputs": [
        {
          "output_type": "execute_result",
          "data": {
            "text/html": [
              "<div>\n",
              "<style scoped>\n",
              "    .dataframe tbody tr th:only-of-type {\n",
              "        vertical-align: middle;\n",
              "    }\n",
              "\n",
              "    .dataframe tbody tr th {\n",
              "        vertical-align: top;\n",
              "    }\n",
              "\n",
              "    .dataframe thead th {\n",
              "        text-align: right;\n",
              "    }\n",
              "</style>\n",
              "<table border=\"1\" class=\"dataframe\">\n",
              "  <thead>\n",
              "    <tr style=\"text-align: right;\">\n",
              "      <th></th>\n",
              "      <th>user_id</th>\n",
              "      <th>event_date</th>\n",
              "      <th>event_time</th>\n",
              "      <th>device_name</th>\n",
              "      <th>session_nb</th>\n",
              "      <th>user_country</th>\n",
              "    </tr>\n",
              "  </thead>\n",
              "  <tbody>\n",
              "    <tr>\n",
              "      <th>0</th>\n",
              "      <td>FEAE206C-02E5-4610-B2A5-0EC5CBC73BBD</td>\n",
              "      <td>2015-10-14</td>\n",
              "      <td>2015-10-14 10:00:09</td>\n",
              "      <td>iPadAir</td>\n",
              "      <td>9</td>\n",
              "      <td>IN</td>\n",
              "    </tr>\n",
              "    <tr>\n",
              "      <th>1</th>\n",
              "      <td>FEAE206C-02E5-4610-B2A5-0EC5CBC73BBD</td>\n",
              "      <td>2015-10-14</td>\n",
              "      <td>2015-10-14 09:56:46</td>\n",
              "      <td>iPadAir</td>\n",
              "      <td>9</td>\n",
              "      <td>IN</td>\n",
              "    </tr>\n",
              "    <tr>\n",
              "      <th>2</th>\n",
              "      <td>DC155AB7-3728-4E8D-A933-1BD7A0BC993A</td>\n",
              "      <td>2015-10-14</td>\n",
              "      <td>2015-10-14 09:23:21</td>\n",
              "      <td>iPhone6</td>\n",
              "      <td>3</td>\n",
              "      <td>CN</td>\n",
              "    </tr>\n",
              "    <tr>\n",
              "      <th>3</th>\n",
              "      <td>C47A6FCE-6C76-41FE-9A6A-173AC7F01315</td>\n",
              "      <td>2015-10-14</td>\n",
              "      <td>2015-10-14 09:21:32</td>\n",
              "      <td>iPod5</td>\n",
              "      <td>3</td>\n",
              "      <td>IN</td>\n",
              "    </tr>\n",
              "    <tr>\n",
              "      <th>4</th>\n",
              "      <td>6BED1A04-43A3-431D-B908-5CD3E3843B5C</td>\n",
              "      <td>2015-10-14</td>\n",
              "      <td>2015-10-14 08:57:33</td>\n",
              "      <td>iPhone6+</td>\n",
              "      <td>3</td>\n",
              "      <td>IN</td>\n",
              "    </tr>\n",
              "  </tbody>\n",
              "</table>\n",
              "</div>"
            ],
            "text/plain": [
              "                                user_id event_date  ... session_nb user_country\n",
              "0  FEAE206C-02E5-4610-B2A5-0EC5CBC73BBD 2015-10-14  ...          9           IN\n",
              "1  FEAE206C-02E5-4610-B2A5-0EC5CBC73BBD 2015-10-14  ...          9           IN\n",
              "2  DC155AB7-3728-4E8D-A933-1BD7A0BC993A 2015-10-14  ...          3           CN\n",
              "3  C47A6FCE-6C76-41FE-9A6A-173AC7F01315 2015-10-14  ...          3           IN\n",
              "4  6BED1A04-43A3-431D-B908-5CD3E3843B5C 2015-10-14  ...          3           IN\n",
              "\n",
              "[5 rows x 6 columns]"
            ]
          },
          "metadata": {
            "tags": []
          },
          "execution_count": 6
        }
      ]
    },
    {
      "cell_type": "code",
      "metadata": {
        "id": "6YeF08VvGJYb",
        "colab_type": "code",
        "outputId": "1de5b8b9-e5ed-4943-8d5b-505fccdd2f4b",
        "colab": {
          "base_uri": "https://localhost:8080/",
          "height": 208
        }
      },
      "source": [
        "# Checking Data type and other info of df_session_start \n",
        "df_session_start.info()"
      ],
      "execution_count": 7,
      "outputs": [
        {
          "output_type": "stream",
          "text": [
            "<class 'pandas.core.frame.DataFrame'>\n",
            "RangeIndex: 42897 entries, 0 to 42896\n",
            "Data columns (total 6 columns):\n",
            "user_id         42897 non-null object\n",
            "event_date      42897 non-null datetime64[ns]\n",
            "event_time      42897 non-null datetime64[ns]\n",
            "device_name     42897 non-null object\n",
            "session_nb      42897 non-null int64\n",
            "user_country    42897 non-null object\n",
            "dtypes: datetime64[ns](2), int64(1), object(3)\n",
            "memory usage: 2.0+ MB\n"
          ],
          "name": "stdout"
        }
      ]
    },
    {
      "cell_type": "code",
      "metadata": {
        "id": "aKTQqjw0lzNn",
        "colab_type": "code",
        "colab": {
          "base_uri": "https://localhost:8080/",
          "height": 277
        },
        "outputId": "826f5486-e6b3-4f7a-f9ee-7dc2aa6ab285"
      },
      "source": [
        "# Checking Data type and other info of df_spenders\n",
        "df_spenders.info()"
      ],
      "execution_count": 98,
      "outputs": [
        {
          "output_type": "stream",
          "text": [
            "<class 'pandas.core.frame.DataFrame'>\n",
            "RangeIndex: 1981 entries, 0 to 1980\n",
            "Data columns (total 10 columns):\n",
            "user_id            1981 non-null object\n",
            "event_date         1981 non-null datetime64[ns]\n",
            "event_time         1981 non-null datetime64[ns]\n",
            "Level              1981 non-null int64\n",
            "session_nb         1981 non-null int64\n",
            "Pack Name          1981 non-null object\n",
            "money Spent        1981 non-null float64\n",
            "money_currency     1981 non-null object\n",
            "INR_conv           1981 non-null float64\n",
            "Money_Spent_INR    1981 non-null float64\n",
            "dtypes: datetime64[ns](2), float64(3), int64(2), object(3)\n",
            "memory usage: 154.9+ KB\n"
          ],
          "name": "stdout"
        }
      ]
    },
    {
      "cell_type": "code",
      "metadata": {
        "id": "JmSWaKbVl_ca",
        "colab_type": "code",
        "colab": {
          "base_uri": "https://localhost:8080/",
          "height": 191
        },
        "outputId": "a0260f39-0455-462f-e5c7-ec9192abb397"
      },
      "source": [
        "# Checking Data type and other info of df_level_start\n",
        "df_level_start.info()"
      ],
      "execution_count": 99,
      "outputs": [
        {
          "output_type": "stream",
          "text": [
            "<class 'pandas.core.frame.DataFrame'>\n",
            "RangeIndex: 22021 entries, 0 to 22020\n",
            "Data columns (total 5 columns):\n",
            "user_id       22021 non-null object\n",
            "event_date    22021 non-null datetime64[ns]\n",
            "event_time    22021 non-null datetime64[ns]\n",
            "Level__ID     22021 non-null int64\n",
            "session_nb    22021 non-null int64\n",
            "dtypes: datetime64[ns](2), int64(2), object(1)\n",
            "memory usage: 860.3+ KB\n"
          ],
          "name": "stdout"
        }
      ]
    },
    {
      "cell_type": "markdown",
      "metadata": {
        "id": "Q-1rtdkXmLo_",
        "colab_type": "text"
      },
      "source": [
        "- So there are no missing values in any of the three Dataframes.\n",
        "\n",
        "- Also their respective Datatypes also seem to be correct.\n",
        "\n",
        "- Let's move ahead and see how many Unique users are present in df_session_start dataframe"
      ]
    },
    {
      "cell_type": "code",
      "metadata": {
        "id": "UMIIen_bGTEH",
        "colab_type": "code",
        "outputId": "7a202aae-0baf-425b-953f-aefae6d85b5b",
        "colab": {
          "base_uri": "https://localhost:8080/",
          "height": 35
        }
      },
      "source": [
        "print(\"Count of Unique Users: \",df_session_start.user_id.nunique() )\n",
        "# print(\"Count of Unique Levels: \",df_session_start.Level.nunique() )\n",
        "# print(\"Unique Labels: \")\n",
        "# df_session_start.Level__ID.unique()"
      ],
      "execution_count": 8,
      "outputs": [
        {
          "output_type": "stream",
          "text": [
            "Count of Unique Users:  233\n"
          ],
          "name": "stdout"
        }
      ]
    },
    {
      "cell_type": "code",
      "metadata": {
        "id": "x6NhyxlwGiEG",
        "colab_type": "code",
        "colab": {}
      },
      "source": [
        ""
      ],
      "execution_count": 0,
      "outputs": []
    },
    {
      "cell_type": "markdown",
      "metadata": {
        "id": "lRV5ombAmuY2",
        "colab_type": "text"
      },
      "source": [
        "After performing EDA we saw that the dataset is clean.\n",
        "let's move on and Start solving the Queries."
      ]
    },
    {
      "cell_type": "markdown",
      "metadata": {
        "id": "xMQXvRUaKLMM",
        "colab_type": "text"
      },
      "source": [
        "#### **1. User Retention: Session Start**\n",
        "\n",
        "In this Requirement, we have to check the Users Retained by the Game on days 1,3,7,15 and 30 Respectively.\n",
        "\n",
        "1. We will consider the Minimum value of Date Column in Session DataFrame as Day1 and Calculate the values of 3,7,15 and 30 using this day1.\n",
        "\n",
        "Thus the Values of days will be:\n",
        "- day1 = '2015-09-22' = Min(date)\n",
        "- day3 = '2015-09-24' = day1+2\n",
        "- day7 = '2015-09-28' = day1+6\n",
        "- day15= '2015-10-06' = day1+14\n",
        "- day30= '2015-10-21' = day1+29\n",
        "\n",
        "2. We will than use these dates to calculate the `Newly Acquired customers` count as well as `Retained Customers Count` for each of the above days:\n",
        " -  `For Newly Acquired Customers`: We will filter our dataframe for the respective date and Select Unique User_ID which have session value as 1.\n",
        " Since whenever a new user logs in the game, He will be assigned session ID as 1.\n",
        " - `For Retained Customers`: We will filter our dataset using the same date as previous and Select user_id's based on Following two coditions:\n",
        "    1. Select userid which were acaquired on the same day.\n",
        "    2. Filter the userId and select only those for which sessionID is greater than 1.\n",
        "\n",
        "3. Then, we will calculate the percentage by dividing the count of Retained Customers by the count of Customers acquired on the Same Day.\n",
        "\n",
        "We will perform the above three steps for each of the 5 days and Create a dict of Percentages which we will use to plot the information on a barchart."
      ]
    },
    {
      "cell_type": "code",
      "metadata": {
        "id": "6Z4BTyvJK3tE",
        "colab_type": "code",
        "outputId": "38944f63-2979-4c2d-9a98-cc744e92c99b",
        "colab": {
          "base_uri": "https://localhost:8080/",
          "height": 202
        }
      },
      "source": [
        "# printing top5 rows of session DataFrame\n",
        "df_session_start.head()"
      ],
      "execution_count": 100,
      "outputs": [
        {
          "output_type": "execute_result",
          "data": {
            "text/html": [
              "<div>\n",
              "<style scoped>\n",
              "    .dataframe tbody tr th:only-of-type {\n",
              "        vertical-align: middle;\n",
              "    }\n",
              "\n",
              "    .dataframe tbody tr th {\n",
              "        vertical-align: top;\n",
              "    }\n",
              "\n",
              "    .dataframe thead th {\n",
              "        text-align: right;\n",
              "    }\n",
              "</style>\n",
              "<table border=\"1\" class=\"dataframe\">\n",
              "  <thead>\n",
              "    <tr style=\"text-align: right;\">\n",
              "      <th></th>\n",
              "      <th>user_id</th>\n",
              "      <th>event_date</th>\n",
              "      <th>event_time</th>\n",
              "      <th>device_name</th>\n",
              "      <th>session_nb</th>\n",
              "      <th>user_country</th>\n",
              "    </tr>\n",
              "  </thead>\n",
              "  <tbody>\n",
              "    <tr>\n",
              "      <th>0</th>\n",
              "      <td>FEAE206C-02E5-4610-B2A5-0EC5CBC73BBD</td>\n",
              "      <td>2015-10-14</td>\n",
              "      <td>2015-10-14 10:00:09</td>\n",
              "      <td>iPadAir</td>\n",
              "      <td>9</td>\n",
              "      <td>IN</td>\n",
              "    </tr>\n",
              "    <tr>\n",
              "      <th>1</th>\n",
              "      <td>FEAE206C-02E5-4610-B2A5-0EC5CBC73BBD</td>\n",
              "      <td>2015-10-14</td>\n",
              "      <td>2015-10-14 09:56:46</td>\n",
              "      <td>iPadAir</td>\n",
              "      <td>9</td>\n",
              "      <td>IN</td>\n",
              "    </tr>\n",
              "    <tr>\n",
              "      <th>2</th>\n",
              "      <td>DC155AB7-3728-4E8D-A933-1BD7A0BC993A</td>\n",
              "      <td>2015-10-14</td>\n",
              "      <td>2015-10-14 09:23:21</td>\n",
              "      <td>iPhone6</td>\n",
              "      <td>3</td>\n",
              "      <td>CN</td>\n",
              "    </tr>\n",
              "    <tr>\n",
              "      <th>3</th>\n",
              "      <td>C47A6FCE-6C76-41FE-9A6A-173AC7F01315</td>\n",
              "      <td>2015-10-14</td>\n",
              "      <td>2015-10-14 09:21:32</td>\n",
              "      <td>iPod5</td>\n",
              "      <td>3</td>\n",
              "      <td>IN</td>\n",
              "    </tr>\n",
              "    <tr>\n",
              "      <th>4</th>\n",
              "      <td>6BED1A04-43A3-431D-B908-5CD3E3843B5C</td>\n",
              "      <td>2015-10-14</td>\n",
              "      <td>2015-10-14 08:57:33</td>\n",
              "      <td>iPhone6+</td>\n",
              "      <td>3</td>\n",
              "      <td>IN</td>\n",
              "    </tr>\n",
              "  </tbody>\n",
              "</table>\n",
              "</div>"
            ],
            "text/plain": [
              "                                user_id event_date  ... session_nb user_country\n",
              "0  FEAE206C-02E5-4610-B2A5-0EC5CBC73BBD 2015-10-14  ...          9           IN\n",
              "1  FEAE206C-02E5-4610-B2A5-0EC5CBC73BBD 2015-10-14  ...          9           IN\n",
              "2  DC155AB7-3728-4E8D-A933-1BD7A0BC993A 2015-10-14  ...          3           CN\n",
              "3  C47A6FCE-6C76-41FE-9A6A-173AC7F01315 2015-10-14  ...          3           IN\n",
              "4  6BED1A04-43A3-431D-B908-5CD3E3843B5C 2015-10-14  ...          3           IN\n",
              "\n",
              "[5 rows x 6 columns]"
            ]
          },
          "metadata": {
            "tags": []
          },
          "execution_count": 100
        }
      ]
    },
    {
      "cell_type": "markdown",
      "metadata": {
        "id": "OP62SRYlojfS",
        "colab_type": "text"
      },
      "source": [
        "Let's print the Count of unique: \n",
        "- Users\n",
        "- Session_nb\n",
        "- Dates \n",
        "\n",
        "in session_start dataframe"
      ]
    },
    {
      "cell_type": "code",
      "metadata": {
        "id": "1FQwVvjKKU04",
        "colab_type": "code",
        "outputId": "03a2a7f2-372d-4a2a-e0b4-e63542d0e1bf",
        "colab": {
          "base_uri": "https://localhost:8080/",
          "height": 69
        }
      },
      "source": [
        "print(\"Count of Unique Users: \",df_session_start.user_id.nunique() )\n",
        "print(\"Count of Unique Sessions: \",df_session_start.session_nb.nunique() )\n",
        "print(\"Count of Unique Dates: \",df_session_start.event_date.nunique())"
      ],
      "execution_count": 10,
      "outputs": [
        {
          "output_type": "stream",
          "text": [
            "Count of Unique Users:  233\n",
            "Count of Unique Sessions:  400\n",
            "Count of Unique Dates:  266\n"
          ],
          "name": "stdout"
        }
      ]
    },
    {
      "cell_type": "markdown",
      "metadata": {
        "id": "k8xP8IEWo0s0",
        "colab_type": "text"
      },
      "source": [
        "Also Minimum and Maximum value of Event Date"
      ]
    },
    {
      "cell_type": "code",
      "metadata": {
        "id": "tIYiuxCmLCGR",
        "colab_type": "code",
        "outputId": "834d517d-d71f-4a65-c3dc-68da34781131",
        "colab": {
          "base_uri": "https://localhost:8080/",
          "height": 35
        }
      },
      "source": [
        "print('Min:{}; Max:{}'.format(min(df_session_start.event_date),max(df_session_start.event_date)))"
      ],
      "execution_count": 11,
      "outputs": [
        {
          "output_type": "stream",
          "text": [
            "Min:2015-09-22 00:00:00; Max:2016-06-21 00:00:00\n"
          ],
          "name": "stdout"
        }
      ]
    },
    {
      "cell_type": "code",
      "metadata": {
        "id": "FzTp7tEILTrO",
        "colab_type": "code",
        "colab": {}
      },
      "source": [
        "# setting the Minimum value as Day1\n",
        "day1 = '2015-09-22'"
      ],
      "execution_count": 0,
      "outputs": []
    },
    {
      "cell_type": "code",
      "metadata": {
        "id": "bBOE_DlKLprq",
        "colab_type": "code",
        "outputId": "0c4e33ac-a422-4e18-b751-6ebed45e284b",
        "colab": {
          "base_uri": "https://localhost:8080/",
          "height": 139
        }
      },
      "source": [
        "day1_acquired = df_session_start[(df_session_start.event_date==day1) & (df_session_start.session_nb==1)]\n",
        "day1_acquired.nunique()"
      ],
      "execution_count": 13,
      "outputs": [
        {
          "output_type": "execute_result",
          "data": {
            "text/plain": [
              "user_id          4\n",
              "event_date       1\n",
              "event_time      38\n",
              "device_name      4\n",
              "session_nb       1\n",
              "user_country     1\n",
              "dtype: int64"
            ]
          },
          "metadata": {
            "tags": []
          },
          "execution_count": 13
        }
      ]
    },
    {
      "cell_type": "code",
      "metadata": {
        "id": "j1V6gIuJkavO",
        "colab_type": "code",
        "outputId": "c610d7d1-86c9-4627-8860-b49626be9f37",
        "colab": {
          "base_uri": "https://localhost:8080/",
          "height": 35
        }
      },
      "source": [
        "day1_retained=df_session_start[(df_session_start.event_date==day1) & (df_session_start.session_nb>1) & (df_session_start.user_id.isin(day1_acquired.user_id)) ]\n",
        "day1_retained.user_id.nunique()"
      ],
      "execution_count": 14,
      "outputs": [
        {
          "output_type": "execute_result",
          "data": {
            "text/plain": [
              "2"
            ]
          },
          "metadata": {
            "tags": []
          },
          "execution_count": 14
        }
      ]
    },
    {
      "cell_type": "code",
      "metadata": {
        "id": "bKIxfH7gmkIW",
        "colab_type": "code",
        "outputId": "c8a1c001-4da3-4250-a817-949d7ccc1061",
        "colab": {
          "base_uri": "https://localhost:8080/",
          "height": 35
        }
      },
      "source": [
        "(day1_acquired.user_id.nunique()), (day1_retained.user_id.nunique())"
      ],
      "execution_count": 15,
      "outputs": [
        {
          "output_type": "execute_result",
          "data": {
            "text/plain": [
              "(4, 2)"
            ]
          },
          "metadata": {
            "tags": []
          },
          "execution_count": 15
        }
      ]
    },
    {
      "cell_type": "code",
      "metadata": {
        "id": "vanWxj5dm2uh",
        "colab_type": "code",
        "colab": {}
      },
      "source": [
        "# df_session_start[df_session_start.user_id.isin(day1_acquired.user_id)]"
      ],
      "execution_count": 0,
      "outputs": []
    },
    {
      "cell_type": "markdown",
      "metadata": {
        "id": "_ImCo_3joVuH",
        "colab_type": "text"
      },
      "source": [
        "Percentage of Users Retained  on Day 1:"
      ]
    },
    {
      "cell_type": "code",
      "metadata": {
        "id": "5rC1kNXVnPLX",
        "colab_type": "code",
        "outputId": "914bf575-8b5e-4812-80bc-41e1d1fca4cb",
        "colab": {
          "base_uri": "https://localhost:8080/",
          "height": 35
        }
      },
      "source": [
        "(day1_retained.user_id.nunique())/(day1_acquired.user_id.nunique())*100"
      ],
      "execution_count": 17,
      "outputs": [
        {
          "output_type": "execute_result",
          "data": {
            "text/plain": [
              "50.0"
            ]
          },
          "metadata": {
            "tags": []
          },
          "execution_count": 17
        }
      ]
    },
    {
      "cell_type": "markdown",
      "metadata": {
        "id": "V1rNEFQ5oqVd",
        "colab_type": "text"
      },
      "source": [
        "Now we will write a function to calculate and return Percentages of Customers Retained for any day"
      ]
    },
    {
      "cell_type": "code",
      "metadata": {
        "id": "xmHlUMKlogjd",
        "colab_type": "code",
        "colab": {}
      },
      "source": [
        "def customers_retained_percent(date):\n",
        "  customers_acquired = df_session_start[(df_session_start.event_date==date) & (df_session_start.session_nb==1)]\n",
        "  customers_retained = df_session_start[(df_session_start.event_date==date) & (df_session_start.session_nb>1) & (df_session_start.user_id.isin(customers_acquired.user_id)) ]\n",
        "  return (customers_retained .user_id.nunique())/(customers_acquired.user_id.nunique())*100"
      ],
      "execution_count": 0,
      "outputs": []
    },
    {
      "cell_type": "code",
      "metadata": {
        "id": "9q_eiY3dqoX4",
        "colab_type": "code",
        "outputId": "b1246f3b-b10c-48ec-db4a-de6370191ef0",
        "colab": {
          "base_uri": "https://localhost:8080/",
          "height": 35
        }
      },
      "source": [
        "date = '2015-09-22'\n",
        "print(customers_retained_percent(date))"
      ],
      "execution_count": 19,
      "outputs": [
        {
          "output_type": "stream",
          "text": [
            "50.0\n"
          ],
          "name": "stdout"
        }
      ]
    },
    {
      "cell_type": "code",
      "metadata": {
        "id": "TFCIeD_Jqzrj",
        "colab_type": "code",
        "outputId": "1b893178-85c8-46a4-86b9-bf387f46344e",
        "colab": {
          "base_uri": "https://localhost:8080/",
          "height": 35
        }
      },
      "source": [
        "day1 = '2015-09-22'\n",
        "day3 = '2015-09-24'\n",
        "day7 = '2015-09-28'\n",
        "day15= '2015-10-06'\n",
        "day30= '2015-10-21'\n",
        "\n",
        "\n",
        "list_of_days = [day1, day3, day7, day15, day30]\n",
        "\n",
        "retained_percent = {}\n",
        "for date in list_of_days:\n",
        "    percent = customers_retained_percent(date)\n",
        "    retained_percent[date] = (percent)\n",
        "\n",
        "\n",
        "print(retained_percent)"
      ],
      "execution_count": 101,
      "outputs": [
        {
          "output_type": "stream",
          "text": [
            "{'2015-09-22': 50.0, '2015-09-24': 60.0, '2015-09-28': 66.66666666666666, '2015-10-06': 60.0, '2015-10-21': 100.0}\n"
          ],
          "name": "stdout"
        }
      ]
    },
    {
      "cell_type": "markdown",
      "metadata": {
        "id": "-_4Z6uoYre_5",
        "colab_type": "text"
      },
      "source": [
        "Now lets plot the Percentages using a barchart."
      ]
    },
    {
      "cell_type": "code",
      "metadata": {
        "id": "uHENHoypreHC",
        "colab_type": "code",
        "colab": {
          "base_uri": "https://localhost:8080/",
          "height": 202
        },
        "outputId": "fb49c4fb-0d8b-4be9-fe3e-c67890e5940e"
      },
      "source": [
        "df = pd.DataFrame.from_dict(retained_percent, orient='index', columns=['Percentage_Retained'])\n",
        "df.index = ['Day1', 'Day3' , 'Day7', 'Day15', 'Day30']\n",
        "df.head()\n"
      ],
      "execution_count": 107,
      "outputs": [
        {
          "output_type": "execute_result",
          "data": {
            "text/html": [
              "<div>\n",
              "<style scoped>\n",
              "    .dataframe tbody tr th:only-of-type {\n",
              "        vertical-align: middle;\n",
              "    }\n",
              "\n",
              "    .dataframe tbody tr th {\n",
              "        vertical-align: top;\n",
              "    }\n",
              "\n",
              "    .dataframe thead th {\n",
              "        text-align: right;\n",
              "    }\n",
              "</style>\n",
              "<table border=\"1\" class=\"dataframe\">\n",
              "  <thead>\n",
              "    <tr style=\"text-align: right;\">\n",
              "      <th></th>\n",
              "      <th>Percentage_Retained</th>\n",
              "    </tr>\n",
              "  </thead>\n",
              "  <tbody>\n",
              "    <tr>\n",
              "      <th>Day1</th>\n",
              "      <td>50.000000</td>\n",
              "    </tr>\n",
              "    <tr>\n",
              "      <th>Day3</th>\n",
              "      <td>60.000000</td>\n",
              "    </tr>\n",
              "    <tr>\n",
              "      <th>Day7</th>\n",
              "      <td>66.666667</td>\n",
              "    </tr>\n",
              "    <tr>\n",
              "      <th>Day15</th>\n",
              "      <td>60.000000</td>\n",
              "    </tr>\n",
              "    <tr>\n",
              "      <th>Day30</th>\n",
              "      <td>100.000000</td>\n",
              "    </tr>\n",
              "  </tbody>\n",
              "</table>\n",
              "</div>"
            ],
            "text/plain": [
              "       Percentage_Retained\n",
              "Day1             50.000000\n",
              "Day3             60.000000\n",
              "Day7             66.666667\n",
              "Day15            60.000000\n",
              "Day30           100.000000"
            ]
          },
          "metadata": {
            "tags": []
          },
          "execution_count": 107
        }
      ]
    },
    {
      "cell_type": "code",
      "metadata": {
        "id": "oXtxN6Kurz0q",
        "colab_type": "code",
        "colab": {
          "base_uri": "https://localhost:8080/",
          "height": 388
        },
        "outputId": "bc1689bc-13fa-4ae1-8f9d-e6bcc84232d9"
      },
      "source": [
        "plt.figure(figsize = (12,6))\n",
        "sns.barplot(x = df.index , y = 'Percentage_Retained', data = df)\n",
        "plt.xlabel(\"Dates\")\n",
        "plt.show()"
      ],
      "execution_count": 109,
      "outputs": [
        {
          "output_type": "display_data",
          "data": {
            "image/png": "[encoded data removed]",
            "text/plain": [
              "<Figure size 864x432 with 1 Axes>"
            ]
          },
          "metadata": {
            "tags": []
          }
        }
      ]
    },
    {
      "cell_type": "code",
      "metadata": {
        "id": "M4mY8ZA4tF9_",
        "colab_type": "code",
        "colab": {}
      },
      "source": [
        ""
      ],
      "execution_count": 0,
      "outputs": []
    },
    {
      "cell_type": "code",
      "metadata": {
        "id": "SmVhjcPdtF6K",
        "colab_type": "code",
        "colab": {}
      },
      "source": [
        ""
      ],
      "execution_count": 0,
      "outputs": []
    },
    {
      "cell_type": "markdown",
      "metadata": {
        "id": "F0laH17zTWFH",
        "colab_type": "text"
      },
      "source": [
        "### **2. Funnel:**\n",
        "#### a.) Create a Funnel of level progression and determine if any areas of the game are acting as blockers\n",
        "#### b.) Also, identify how many times levels are replayed.\n"
      ]
    },
    {
      "cell_type": "markdown",
      "metadata": {
        "id": "em8UWwc9uDt-",
        "colab_type": "text"
      },
      "source": [
        "For Creating the `Funnel`:\n",
        "- We will start with Level 0 and check the UserID's present at 0.\n",
        "- Next We will check the UserId's present at Level 1 and select only those user ID's which were present at level 0.\n",
        "- We will use the counts of userID's to calculate the ratio/percentage of users who moved onto level 1 from level 0.\n",
        "-  We can use the same methodology to create Funnels for other levels as well.\n",
        "\n",
        "We will calculate the progression rate for top 40 Levels of Game and plot them to Identify which level has a lower progression Rate/\n",
        "\n",
        "Let's start funneling:\n",
        "\n"
      ]
    },
    {
      "cell_type": "code",
      "metadata": {
        "id": "yP9oP1DITlPc",
        "colab_type": "code",
        "outputId": "0c1858f6-7131-46f5-d00d-9f49f9c6381c",
        "colab": {
          "base_uri": "https://localhost:8080/",
          "height": 202
        }
      },
      "source": [
        "# Printing top 5 rows of level_start df\n",
        "df_level_start.head()"
      ],
      "execution_count": 21,
      "outputs": [
        {
          "output_type": "execute_result",
          "data": {
            "text/html": [
              "<div>\n",
              "<style scoped>\n",
              "    .dataframe tbody tr th:only-of-type {\n",
              "        vertical-align: middle;\n",
              "    }\n",
              "\n",
              "    .dataframe tbody tr th {\n",
              "        vertical-align: top;\n",
              "    }\n",
              "\n",
              "    .dataframe thead th {\n",
              "        text-align: right;\n",
              "    }\n",
              "</style>\n",
              "<table border=\"1\" class=\"dataframe\">\n",
              "  <thead>\n",
              "    <tr style=\"text-align: right;\">\n",
              "      <th></th>\n",
              "      <th>user_id</th>\n",
              "      <th>event_date</th>\n",
              "      <th>event_time</th>\n",
              "      <th>Level__ID</th>\n",
              "      <th>session_nb</th>\n",
              "    </tr>\n",
              "  </thead>\n",
              "  <tbody>\n",
              "    <tr>\n",
              "      <th>0</th>\n",
              "      <td>6BED1A04-43A3-431D-B908-5CD3E3843B5C</td>\n",
              "      <td>2015-10-14</td>\n",
              "      <td>2015-10-14 10:28:14</td>\n",
              "      <td>18</td>\n",
              "      <td>4</td>\n",
              "    </tr>\n",
              "    <tr>\n",
              "      <th>1</th>\n",
              "      <td>FEAE206C-02E5-4610-B2A5-0EC5CBC73BBD</td>\n",
              "      <td>2015-10-14</td>\n",
              "      <td>2015-10-14 10:01:51</td>\n",
              "      <td>13</td>\n",
              "      <td>9</td>\n",
              "    </tr>\n",
              "    <tr>\n",
              "      <th>2</th>\n",
              "      <td>DC155AB7-3728-4E8D-A933-1BD7A0BC993A</td>\n",
              "      <td>2015-10-14</td>\n",
              "      <td>2015-10-14 09:24:43</td>\n",
              "      <td>1</td>\n",
              "      <td>3</td>\n",
              "    </tr>\n",
              "    <tr>\n",
              "      <th>3</th>\n",
              "      <td>6BED1A04-43A3-431D-B908-5CD3E3843B5C</td>\n",
              "      <td>2015-10-14</td>\n",
              "      <td>2015-10-14 09:16:08</td>\n",
              "      <td>15</td>\n",
              "      <td>3</td>\n",
              "    </tr>\n",
              "    <tr>\n",
              "      <th>4</th>\n",
              "      <td>6BED1A04-43A3-431D-B908-5CD3E3843B5C</td>\n",
              "      <td>2015-10-14</td>\n",
              "      <td>2015-10-14 09:17:07</td>\n",
              "      <td>15</td>\n",
              "      <td>3</td>\n",
              "    </tr>\n",
              "  </tbody>\n",
              "</table>\n",
              "</div>"
            ],
            "text/plain": [
              "                                user_id event_date  ... Level__ID  session_nb\n",
              "0  6BED1A04-43A3-431D-B908-5CD3E3843B5C 2015-10-14  ...        18           4\n",
              "1  FEAE206C-02E5-4610-B2A5-0EC5CBC73BBD 2015-10-14  ...        13           9\n",
              "2  DC155AB7-3728-4E8D-A933-1BD7A0BC993A 2015-10-14  ...         1           3\n",
              "3  6BED1A04-43A3-431D-B908-5CD3E3843B5C 2015-10-14  ...        15           3\n",
              "4  6BED1A04-43A3-431D-B908-5CD3E3843B5C 2015-10-14  ...        15           3\n",
              "\n",
              "[5 rows x 5 columns]"
            ]
          },
          "metadata": {
            "tags": []
          },
          "execution_count": 21
        }
      ]
    },
    {
      "cell_type": "code",
      "metadata": {
        "id": "BYrxyqYSfJ7P",
        "colab_type": "code",
        "outputId": "fcdbd135-397f-4cc8-dd39-b58993f3fb39",
        "colab": {
          "base_uri": "https://localhost:8080/",
          "height": 225
        }
      },
      "source": [
        "# Checking Number of Users at each Level\n",
        "df_level_start.Level__ID.value_counts()"
      ],
      "execution_count": 22,
      "outputs": [
        {
          "output_type": "execute_result",
          "data": {
            "text/plain": [
              "10    2148\n",
              "1     1792\n",
              "20    1562\n",
              "23    1349\n",
              "2     1297\n",
              "      ... \n",
              "49       1\n",
              "75       1\n",
              "51       1\n",
              "67       1\n",
              "46       1\n",
              "Name: Level__ID, Length: 66, dtype: int64"
            ]
          },
          "metadata": {
            "tags": []
          },
          "execution_count": 22
        }
      ]
    },
    {
      "cell_type": "markdown",
      "metadata": {
        "id": "N09qCMtHvphG",
        "colab_type": "text"
      },
      "source": [
        "Let's find out total number of Unqiue user Id's in dataframe and Count of Unique userID's at level 0 side by side:"
      ]
    },
    {
      "cell_type": "code",
      "metadata": {
        "id": "wmW3EIiFTlL7",
        "colab_type": "code",
        "outputId": "477fb914-38dc-4c03-b5c8-5113b34923f7",
        "colab": {
          "base_uri": "https://localhost:8080/",
          "height": 35
        }
      },
      "source": [
        "df_level_start.user_id.nunique(),df_level_start[df_level_start.Level__ID==0].user_id.nunique()"
      ],
      "execution_count": 110,
      "outputs": [
        {
          "output_type": "execute_result",
          "data": {
            "text/plain": [
              "(201, 21)"
            ]
          },
          "metadata": {
            "tags": []
          },
          "execution_count": 110
        }
      ]
    },
    {
      "cell_type": "markdown",
      "metadata": {
        "id": "mcCeGwmGv1_5",
        "colab_type": "text"
      },
      "source": [
        "**Writing a reusable function which can take level value and return the Progression percentage using the Algo discussed above:**"
      ]
    },
    {
      "cell_type": "code",
      "metadata": {
        "id": "kpN_LGP5TlIo",
        "colab_type": "code",
        "outputId": "81bc2180-fb72-4985-8c7f-1df491bf7ea7",
        "colab": {
          "base_uri": "https://localhost:8080/",
          "height": 35
        }
      },
      "source": [
        "def Funnel_level(level):\n",
        "  Users_from_prev_level = df_level_start[df_level_start.Level__ID==level-1].user_id.unique()\n",
        "  User_moved_to_Current_level = df_level_start[(df_level_start.Level__ID==level)& (df_level_start.user_id.isin(Users_from_prev_level)) ]\n",
        "  User_moved_to_Current_level = User_moved_to_Current_level.user_id.unique()\n",
        "  return round(len(User_moved_to_Current_level)/ len(Users_from_prev_level)*100,2)\n",
        "\n",
        "# Calulcation Percentage progression of Level 1\n",
        "print(\"Level 1 progression Percentage: \", end = '')\n",
        "Funnel_level(1)\n"
      ],
      "execution_count": 114,
      "outputs": [
        {
          "output_type": "stream",
          "text": [
            "Level 1 progression Percentage: "
          ],
          "name": "stdout"
        },
        {
          "output_type": "execute_result",
          "data": {
            "text/plain": [
              "80.95"
            ]
          },
          "metadata": {
            "tags": []
          },
          "execution_count": 114
        }
      ]
    },
    {
      "cell_type": "code",
      "metadata": {
        "id": "pNtLx2JufnSO",
        "colab_type": "code",
        "outputId": "86426291-df48-4244-efeb-9b6ddc879e52",
        "colab": {
          "base_uri": "https://localhost:8080/",
          "height": 87
        }
      },
      "source": [
        "# Printing all the levels \n",
        "levels = df_level_start.Level__ID.unique()\n",
        "levels.sort()\n",
        "levels"
      ],
      "execution_count": 25,
      "outputs": [
        {
          "output_type": "execute_result",
          "data": {
            "text/plain": [
              "array([ 0,  1,  2,  3,  4,  5,  6,  7,  8,  9, 10, 11, 12, 13, 14, 15, 16,\n",
              "       17, 18, 19, 20, 21, 22, 23, 24, 25, 26, 27, 28, 29, 30, 31, 32, 33,\n",
              "       34, 35, 36, 37, 38, 39, 40, 41, 42, 44, 45, 46, 48, 49, 50, 51, 53,\n",
              "       55, 57, 64, 65, 67, 69, 70, 75, 76, 81, 82, 88, 90, 96, 99])"
            ]
          },
          "metadata": {
            "tags": []
          },
          "execution_count": 25
        }
      ]
    },
    {
      "cell_type": "markdown",
      "metadata": {
        "id": "fRDYGwVWwpV9",
        "colab_type": "text"
      },
      "source": [
        "As we can see data for some of the labesl like 92 to 94 is not present.\n",
        "This may be due to very low number or None at all, of people present at higher levels.\n",
        "\n",
        "So We will calculate the progression percentages for top 40 labels only."
      ]
    },
    {
      "cell_type": "code",
      "metadata": {
        "id": "7Eks3tEofnO6",
        "colab_type": "code",
        "colab": {
          "base_uri": "https://localhost:8080/",
          "height": 55
        },
        "outputId": "e153722f-6eb2-4de6-be28-910993483a22"
      },
      "source": [
        "dict_level_perc = {}\n",
        "for level in range(1,41):\n",
        "  funnel = Funnel_level(level)\n",
        "  dict_level_perc[level] = funnel\n",
        "\n",
        "print(dict_level_perc)"
      ],
      "execution_count": 115,
      "outputs": [
        {
          "output_type": "stream",
          "text": [
            "{1: 80.95, 2: 85.57, 3: 78.57, 4: 75.68, 5: 81.03, 6: 78.57, 7: 75.93, 8: 67.39, 9: 59.46, 10: 78.12, 11: 27.12, 12: 73.68, 13: 51.85, 14: 78.79, 15: 73.81, 16: 42.5, 17: 29.41, 18: 47.37, 19: 25.0, 20: 76.47, 21: 43.4, 22: 43.24, 23: 59.26, 24: 28.95, 25: 27.27, 26: 41.18, 27: 20.0, 28: 41.67, 29: 10.0, 30: 66.67, 31: 33.33, 32: 10.0, 33: 0.0, 34: 0.0, 35: 0.0, 36: 100.0, 37: 33.33, 38: 0.0, 39: 0.0, 40: 0.0}\n"
          ],
          "name": "stdout"
        }
      ]
    },
    {
      "cell_type": "code",
      "metadata": {
        "id": "VfBrIRcLfnJ6",
        "colab_type": "code",
        "colab": {
          "base_uri": "https://localhost:8080/",
          "height": 202
        },
        "outputId": "a1a3dad8-7f55-4c31-cc0d-04dd4d2f03b7"
      },
      "source": [
        "# Creating Dataframe from dictionary\n",
        "df = pd.DataFrame.from_dict(dict_level_perc, orient='index', columns=['Percentage'])\n",
        "df.head()"
      ],
      "execution_count": 117,
      "outputs": [
        {
          "output_type": "execute_result",
          "data": {
            "text/html": [
              "<div>\n",
              "<style scoped>\n",
              "    .dataframe tbody tr th:only-of-type {\n",
              "        vertical-align: middle;\n",
              "    }\n",
              "\n",
              "    .dataframe tbody tr th {\n",
              "        vertical-align: top;\n",
              "    }\n",
              "\n",
              "    .dataframe thead th {\n",
              "        text-align: right;\n",
              "    }\n",
              "</style>\n",
              "<table border=\"1\" class=\"dataframe\">\n",
              "  <thead>\n",
              "    <tr style=\"text-align: right;\">\n",
              "      <th></th>\n",
              "      <th>Percentage</th>\n",
              "    </tr>\n",
              "  </thead>\n",
              "  <tbody>\n",
              "    <tr>\n",
              "      <th>1</th>\n",
              "      <td>80.95</td>\n",
              "    </tr>\n",
              "    <tr>\n",
              "      <th>2</th>\n",
              "      <td>85.57</td>\n",
              "    </tr>\n",
              "    <tr>\n",
              "      <th>3</th>\n",
              "      <td>78.57</td>\n",
              "    </tr>\n",
              "    <tr>\n",
              "      <th>4</th>\n",
              "      <td>75.68</td>\n",
              "    </tr>\n",
              "    <tr>\n",
              "      <th>5</th>\n",
              "      <td>81.03</td>\n",
              "    </tr>\n",
              "  </tbody>\n",
              "</table>\n",
              "</div>"
            ],
            "text/plain": [
              "   Percentage\n",
              "1       80.95\n",
              "2       85.57\n",
              "3       78.57\n",
              "4       75.68\n",
              "5       81.03"
            ]
          },
          "metadata": {
            "tags": []
          },
          "execution_count": 117
        }
      ]
    },
    {
      "cell_type": "markdown",
      "metadata": {
        "id": "KlcEH5SmUsm5",
        "colab_type": "text"
      },
      "source": [
        "**Let's Draw a barplot representing all the Levels and their respectice progression percentage:**"
      ]
    },
    {
      "cell_type": "code",
      "metadata": {
        "id": "hjqHUNqNUtTP",
        "colab_type": "code",
        "colab": {
          "base_uri": "https://localhost:8080/",
          "height": 513
        },
        "outputId": "470f7e79-1a72-4e8f-8f2b-f40fe3ad119a"
      },
      "source": [
        "plt.figure(figsize = (18,8))\n",
        "sns.barplot(x = df.index , y = 'Percentage', data = df, palette = 'autumn')\n",
        "plt.xlabel(\"Levels\")\n",
        "plt.title(\"Progression Percentage Rate of Each Level of Game\")\n",
        "plt.show()"
      ],
      "execution_count": 119,
      "outputs": [
        {
          "output_type": "display_data",
          "data": {
            "image/png": "[encoded data removed]",
            "text/plain": [
              "<Figure size 1296x576 with 1 Axes>"
            ]
          },
          "metadata": {
            "tags": []
          }
        }
      ]
    },
    {
      "cell_type": "markdown",
      "metadata": {
        "id": "njpwX7DKVqme",
        "colab_type": "text"
      },
      "source": [
        "We can see from the graph above:\n",
        "- Level 11 has a very low percentage of progression compared to other levels near it.\n",
        "- Level 16,17,18,19 also have a low percentage of progression.\n",
        "-  The levels after 23 have least percentage but that maybe expained due to very low number of player at that level.\n",
        "So that's not a blocker.\n",
        "\n",
        "- Level 11 is acting as the major blocker followed by level 17."
      ]
    },
    {
      "cell_type": "markdown",
      "metadata": {
        "id": "q6GJv9XE6JjG",
        "colab_type": "text"
      },
      "source": [
        "### **3. What percentage of users make first time purchases between levels 1 to 7?**\n"
      ]
    },
    {
      "cell_type": "code",
      "metadata": {
        "id": "VGB5ewH8sKDt",
        "colab_type": "code",
        "outputId": "f74942d8-a461-4635-9021-c7350bf4d42a",
        "colab": {
          "base_uri": "https://localhost:8080/",
          "height": 202
        }
      },
      "source": [
        "df_spenders.head()"
      ],
      "execution_count": 29,
      "outputs": [
        {
          "output_type": "execute_result",
          "data": {
            "text/html": [
              "<div>\n",
              "<style scoped>\n",
              "    .dataframe tbody tr th:only-of-type {\n",
              "        vertical-align: middle;\n",
              "    }\n",
              "\n",
              "    .dataframe tbody tr th {\n",
              "        vertical-align: top;\n",
              "    }\n",
              "\n",
              "    .dataframe thead th {\n",
              "        text-align: right;\n",
              "    }\n",
              "</style>\n",
              "<table border=\"1\" class=\"dataframe\">\n",
              "  <thead>\n",
              "    <tr style=\"text-align: right;\">\n",
              "      <th></th>\n",
              "      <th>user_id</th>\n",
              "      <th>event_date</th>\n",
              "      <th>event_time</th>\n",
              "      <th>Level</th>\n",
              "      <th>session_nb</th>\n",
              "      <th>Pack Name</th>\n",
              "      <th>money Spent</th>\n",
              "      <th>money_currency</th>\n",
              "    </tr>\n",
              "  </thead>\n",
              "  <tbody>\n",
              "    <tr>\n",
              "      <th>0</th>\n",
              "      <td>8BF191CF-567A-4977-B2C9-90EC756EFD41</td>\n",
              "      <td>2015-10-01</td>\n",
              "      <td>2015-10-01 05:07:43</td>\n",
              "      <td>3</td>\n",
              "      <td>1</td>\n",
              "      <td>Shop 5750 Tokens</td>\n",
              "      <td>99.989998</td>\n",
              "      <td>EUR</td>\n",
              "    </tr>\n",
              "    <tr>\n",
              "      <th>1</th>\n",
              "      <td>936BAA84-CDE9-4C8F-A949-5E2CB077A9CE</td>\n",
              "      <td>2015-09-28</td>\n",
              "      <td>2015-09-28 06:22:52</td>\n",
              "      <td>1</td>\n",
              "      <td>1</td>\n",
              "      <td>Shop 17500 Orbs</td>\n",
              "      <td>1.990000</td>\n",
              "      <td>EUR</td>\n",
              "    </tr>\n",
              "    <tr>\n",
              "      <th>2</th>\n",
              "      <td>52807659-0332-486C-99E4-84429A1830F3</td>\n",
              "      <td>2015-09-22</td>\n",
              "      <td>2015-09-22 10:54:39</td>\n",
              "      <td>14</td>\n",
              "      <td>1</td>\n",
              "      <td>Shop 490000 Orbs</td>\n",
              "      <td>49.990002</td>\n",
              "      <td>EUR</td>\n",
              "    </tr>\n",
              "    <tr>\n",
              "      <th>3</th>\n",
              "      <td>1CE1D120-D2FA-4DAF-80D2-9C5BBDCFB9A5</td>\n",
              "      <td>2015-10-17</td>\n",
              "      <td>2015-10-17 11:25:49</td>\n",
              "      <td>23</td>\n",
              "      <td>5</td>\n",
              "      <td>Shop 510 Tokens</td>\n",
              "      <td>9.990000</td>\n",
              "      <td>EUR</td>\n",
              "    </tr>\n",
              "    <tr>\n",
              "      <th>4</th>\n",
              "      <td>1CE1D120-D2FA-4DAF-80D2-9C5BBDCFB9A5</td>\n",
              "      <td>2015-10-17</td>\n",
              "      <td>2015-10-17 11:23:50</td>\n",
              "      <td>23</td>\n",
              "      <td>5</td>\n",
              "      <td>Shop 100 Tokens</td>\n",
              "      <td>1.990000</td>\n",
              "      <td>EUR</td>\n",
              "    </tr>\n",
              "  </tbody>\n",
              "</table>\n",
              "</div>"
            ],
            "text/plain": [
              "                                user_id event_date  ... money Spent  money_currency\n",
              "0  8BF191CF-567A-4977-B2C9-90EC756EFD41 2015-10-01  ...   99.989998             EUR\n",
              "1  936BAA84-CDE9-4C8F-A949-5E2CB077A9CE 2015-09-28  ...    1.990000             EUR\n",
              "2  52807659-0332-486C-99E4-84429A1830F3 2015-09-22  ...   49.990002             EUR\n",
              "3  1CE1D120-D2FA-4DAF-80D2-9C5BBDCFB9A5 2015-10-17  ...    9.990000             EUR\n",
              "4  1CE1D120-D2FA-4DAF-80D2-9C5BBDCFB9A5 2015-10-17  ...    1.990000             EUR\n",
              "\n",
              "[5 rows x 8 columns]"
            ]
          },
          "metadata": {
            "tags": []
          },
          "execution_count": 29
        }
      ]
    },
    {
      "cell_type": "code",
      "metadata": {
        "id": "UH1JcI616ev_",
        "colab_type": "code",
        "outputId": "d0274f82-d889-4d55-dae9-db7d41b21e9c",
        "colab": {
          "base_uri": "https://localhost:8080/",
          "height": 202
        }
      },
      "source": [
        "df_1st_purch_1_to_7 = df_spenders[(df_spenders.session_nb==1) & (df_spenders.Level.isin([1,2,3,4,5,6,7]))]\n",
        "df_1st_purch_1_to_7.head()\n"
      ],
      "execution_count": 30,
      "outputs": [
        {
          "output_type": "execute_result",
          "data": {
            "text/html": [
              "<div>\n",
              "<style scoped>\n",
              "    .dataframe tbody tr th:only-of-type {\n",
              "        vertical-align: middle;\n",
              "    }\n",
              "\n",
              "    .dataframe tbody tr th {\n",
              "        vertical-align: top;\n",
              "    }\n",
              "\n",
              "    .dataframe thead th {\n",
              "        text-align: right;\n",
              "    }\n",
              "</style>\n",
              "<table border=\"1\" class=\"dataframe\">\n",
              "  <thead>\n",
              "    <tr style=\"text-align: right;\">\n",
              "      <th></th>\n",
              "      <th>user_id</th>\n",
              "      <th>event_date</th>\n",
              "      <th>event_time</th>\n",
              "      <th>Level</th>\n",
              "      <th>session_nb</th>\n",
              "      <th>Pack Name</th>\n",
              "      <th>money Spent</th>\n",
              "      <th>money_currency</th>\n",
              "    </tr>\n",
              "  </thead>\n",
              "  <tbody>\n",
              "    <tr>\n",
              "      <th>0</th>\n",
              "      <td>8BF191CF-567A-4977-B2C9-90EC756EFD41</td>\n",
              "      <td>2015-10-01</td>\n",
              "      <td>2015-10-01 05:07:43</td>\n",
              "      <td>3</td>\n",
              "      <td>1</td>\n",
              "      <td>Shop 5750 Tokens</td>\n",
              "      <td>99.989998</td>\n",
              "      <td>EUR</td>\n",
              "    </tr>\n",
              "    <tr>\n",
              "      <th>1</th>\n",
              "      <td>936BAA84-CDE9-4C8F-A949-5E2CB077A9CE</td>\n",
              "      <td>2015-09-28</td>\n",
              "      <td>2015-09-28 06:22:52</td>\n",
              "      <td>1</td>\n",
              "      <td>1</td>\n",
              "      <td>Shop 17500 Orbs</td>\n",
              "      <td>1.990000</td>\n",
              "      <td>EUR</td>\n",
              "    </tr>\n",
              "    <tr>\n",
              "      <th>8</th>\n",
              "      <td>1CE1D120-D2FA-4DAF-80D2-9C5BBDCFB9A5</td>\n",
              "      <td>2015-10-17</td>\n",
              "      <td>2015-10-17 04:40:30</td>\n",
              "      <td>1</td>\n",
              "      <td>1</td>\n",
              "      <td>Shop 510 Tokens</td>\n",
              "      <td>9.990000</td>\n",
              "      <td>EUR</td>\n",
              "    </tr>\n",
              "    <tr>\n",
              "      <th>9</th>\n",
              "      <td>936BAA84-CDE9-4C8F-A949-5E2CB077A9CE</td>\n",
              "      <td>2015-10-18</td>\n",
              "      <td>2015-10-18 11:24:08</td>\n",
              "      <td>2</td>\n",
              "      <td>1</td>\n",
              "      <td>Shop 250 Tokens</td>\n",
              "      <td>64.989998</td>\n",
              "      <td>NZD</td>\n",
              "    </tr>\n",
              "    <tr>\n",
              "      <th>12</th>\n",
              "      <td>6BED1A04-43A3-431D-B908-5CD3E3843B5C</td>\n",
              "      <td>2015-11-05</td>\n",
              "      <td>2015-11-05 14:37:28</td>\n",
              "      <td>2</td>\n",
              "      <td>1</td>\n",
              "      <td>Shop 192500 Orbs</td>\n",
              "      <td>19.990000</td>\n",
              "      <td>EUR</td>\n",
              "    </tr>\n",
              "  </tbody>\n",
              "</table>\n",
              "</div>"
            ],
            "text/plain": [
              "                                 user_id event_date  ... money Spent  money_currency\n",
              "0   8BF191CF-567A-4977-B2C9-90EC756EFD41 2015-10-01  ...   99.989998             EUR\n",
              "1   936BAA84-CDE9-4C8F-A949-5E2CB077A9CE 2015-09-28  ...    1.990000             EUR\n",
              "8   1CE1D120-D2FA-4DAF-80D2-9C5BBDCFB9A5 2015-10-17  ...    9.990000             EUR\n",
              "9   936BAA84-CDE9-4C8F-A949-5E2CB077A9CE 2015-10-18  ...   64.989998             NZD\n",
              "12  6BED1A04-43A3-431D-B908-5CD3E3843B5C 2015-11-05  ...   19.990000             EUR\n",
              "\n",
              "[5 rows x 8 columns]"
            ]
          },
          "metadata": {
            "tags": []
          },
          "execution_count": 30
        }
      ]
    },
    {
      "cell_type": "code",
      "metadata": {
        "id": "4WkhvWh76y9b",
        "colab_type": "code",
        "outputId": "a5189be3-8c16-4e11-8ac1-a41cb1e8b6fd",
        "colab": {
          "base_uri": "https://localhost:8080/",
          "height": 35
        }
      },
      "source": [
        "df_1st_purch_1_to_7.user_id.nunique(), df_spenders.user_id.nunique()"
      ],
      "execution_count": 31,
      "outputs": [
        {
          "output_type": "execute_result",
          "data": {
            "text/plain": [
              "(61, 233)"
            ]
          },
          "metadata": {
            "tags": []
          },
          "execution_count": 31
        }
      ]
    },
    {
      "cell_type": "code",
      "metadata": {
        "id": "yjLIAXWW7-Bg",
        "colab_type": "code",
        "outputId": "6eee1a7f-05b1-4274-c21f-0f0ea77f1861",
        "colab": {
          "base_uri": "https://localhost:8080/",
          "height": 35
        }
      },
      "source": [
        "percent = df_1st_purch_1_to_7.user_id.nunique()/ df_spenders.user_id.nunique()*100\n",
        "print(\"Percentage of users make first time purchases between levels 1 to 7: \", round(percent,2), \"%\")"
      ],
      "execution_count": 32,
      "outputs": [
        {
          "output_type": "stream",
          "text": [
            "Percentage of users make first time purchases between levels 1 to 7:  26.18 %\n"
          ],
          "name": "stdout"
        }
      ]
    },
    {
      "cell_type": "markdown",
      "metadata": {
        "id": "jFiONoz2WjU-",
        "colab_type": "text"
      },
      "source": [
        "Let's Plot a chart to represent this:"
      ]
    },
    {
      "cell_type": "code",
      "metadata": {
        "id": "CgIp5_aHWiSA",
        "colab_type": "code",
        "colab": {
          "base_uri": "https://localhost:8080/",
          "height": 373
        },
        "outputId": "88e19ed4-ed45-4be5-c3f2-197b3357360c"
      },
      "source": [
        "labels = ['Percentage of Users', 'Other Users']\n",
        "sizes = [round(percent,2), 100-round(percent,2)]\n",
        "plt.figure(figsize = (10,6))\n",
        "\n",
        "plt.pie(sizes, explode=[0.025, 0.025], labels=labels,\n",
        "        shadow=True, autopct='%1.1f%%', startangle=90)\n",
        "  # Equal aspect ratio ensures that pie is drawn as a circle.\n",
        "plt.title(\"Percentage of Users who made their first purchase between level 1 and 7\")\n",
        "plt.show()"
      ],
      "execution_count": 33,
      "outputs": [
        {
          "output_type": "display_data",
          "data": {
            "image/png": "[encoded data removed]",
            "text/plain": [
              "<Figure size 720x432 with 1 Axes>"
            ]
          },
          "metadata": {
            "tags": []
          }
        }
      ]
    },
    {
      "cell_type": "code",
      "metadata": {
        "id": "lhyOiRO28Oai",
        "colab_type": "code",
        "colab": {}
      },
      "source": [
        ""
      ],
      "execution_count": 0,
      "outputs": []
    },
    {
      "cell_type": "markdown",
      "metadata": {
        "id": "dMxS9Nb_8rHy",
        "colab_type": "text"
      },
      "source": [
        "#### What percentage of users make a repeat purchase? \n",
        "#### At what level maximum repeat purchases happen?"
      ]
    },
    {
      "cell_type": "code",
      "metadata": {
        "id": "CkNgcoA6-ZO_",
        "colab_type": "code",
        "outputId": "3edd7ad8-3f30-45f7-c39f-0abea0aa8221",
        "colab": {
          "base_uri": "https://localhost:8080/",
          "height": 35
        }
      },
      "source": [
        "df_spenders.user_id.nunique()"
      ],
      "execution_count": 34,
      "outputs": [
        {
          "output_type": "execute_result",
          "data": {
            "text/plain": [
              "233"
            ]
          },
          "metadata": {
            "tags": []
          },
          "execution_count": 34
        }
      ]
    },
    {
      "cell_type": "code",
      "metadata": {
        "id": "JXzlugD68yFH",
        "colab_type": "code",
        "outputId": "7466cb35-8a66-4b98-f302-445eb2257e19",
        "colab": {
          "base_uri": "https://localhost:8080/",
          "height": 233
        }
      },
      "source": [
        "groupby_users= df_spenders.groupby(by = 'user_id').count()\n",
        "groupby_users.head()"
      ],
      "execution_count": 35,
      "outputs": [
        {
          "output_type": "execute_result",
          "data": {
            "text/html": [
              "<div>\n",
              "<style scoped>\n",
              "    .dataframe tbody tr th:only-of-type {\n",
              "        vertical-align: middle;\n",
              "    }\n",
              "\n",
              "    .dataframe tbody tr th {\n",
              "        vertical-align: top;\n",
              "    }\n",
              "\n",
              "    .dataframe thead th {\n",
              "        text-align: right;\n",
              "    }\n",
              "</style>\n",
              "<table border=\"1\" class=\"dataframe\">\n",
              "  <thead>\n",
              "    <tr style=\"text-align: right;\">\n",
              "      <th></th>\n",
              "      <th>event_date</th>\n",
              "      <th>event_time</th>\n",
              "      <th>Level</th>\n",
              "      <th>session_nb</th>\n",
              "      <th>Pack Name</th>\n",
              "      <th>money Spent</th>\n",
              "      <th>money_currency</th>\n",
              "    </tr>\n",
              "    <tr>\n",
              "      <th>user_id</th>\n",
              "      <th></th>\n",
              "      <th></th>\n",
              "      <th></th>\n",
              "      <th></th>\n",
              "      <th></th>\n",
              "      <th></th>\n",
              "      <th></th>\n",
              "    </tr>\n",
              "  </thead>\n",
              "  <tbody>\n",
              "    <tr>\n",
              "      <th>011A3515-4A03-4350-9574-25346518A6A6</th>\n",
              "      <td>4</td>\n",
              "      <td>4</td>\n",
              "      <td>4</td>\n",
              "      <td>4</td>\n",
              "      <td>4</td>\n",
              "      <td>4</td>\n",
              "      <td>4</td>\n",
              "    </tr>\n",
              "    <tr>\n",
              "      <th>0325F505-2A21-44DA-8A2C-784E9192B241</th>\n",
              "      <td>22</td>\n",
              "      <td>22</td>\n",
              "      <td>22</td>\n",
              "      <td>22</td>\n",
              "      <td>22</td>\n",
              "      <td>22</td>\n",
              "      <td>22</td>\n",
              "    </tr>\n",
              "    <tr>\n",
              "      <th>0468B646-70AE-42B9-B0CB-57AA168A42CE</th>\n",
              "      <td>1</td>\n",
              "      <td>1</td>\n",
              "      <td>1</td>\n",
              "      <td>1</td>\n",
              "      <td>1</td>\n",
              "      <td>1</td>\n",
              "      <td>1</td>\n",
              "    </tr>\n",
              "    <tr>\n",
              "      <th>07F425F8-EF9C-46FD-8DF8-28682F27C197</th>\n",
              "      <td>2</td>\n",
              "      <td>2</td>\n",
              "      <td>2</td>\n",
              "      <td>2</td>\n",
              "      <td>2</td>\n",
              "      <td>2</td>\n",
              "      <td>2</td>\n",
              "    </tr>\n",
              "    <tr>\n",
              "      <th>0861668E-4028-4251-8AEB-B5B306A06041</th>\n",
              "      <td>1</td>\n",
              "      <td>1</td>\n",
              "      <td>1</td>\n",
              "      <td>1</td>\n",
              "      <td>1</td>\n",
              "      <td>1</td>\n",
              "      <td>1</td>\n",
              "    </tr>\n",
              "  </tbody>\n",
              "</table>\n",
              "</div>"
            ],
            "text/plain": [
              "                                      event_date  ...  money_currency\n",
              "user_id                                           ...                \n",
              "011A3515-4A03-4350-9574-25346518A6A6           4  ...               4\n",
              "0325F505-2A21-44DA-8A2C-784E9192B241          22  ...              22\n",
              "0468B646-70AE-42B9-B0CB-57AA168A42CE           1  ...               1\n",
              "07F425F8-EF9C-46FD-8DF8-28682F27C197           2  ...               2\n",
              "0861668E-4028-4251-8AEB-B5B306A06041           1  ...               1\n",
              "\n",
              "[5 rows x 7 columns]"
            ]
          },
          "metadata": {
            "tags": []
          },
          "execution_count": 35
        }
      ]
    },
    {
      "cell_type": "code",
      "metadata": {
        "id": "fzSSpc3B-S3_",
        "colab_type": "code",
        "outputId": "4c095464-c717-4672-e7f2-f72d4035c42d",
        "colab": {
          "base_uri": "https://localhost:8080/",
          "height": 35
        }
      },
      "source": [
        "len(groupby_users[groupby_users.event_date>1])"
      ],
      "execution_count": 36,
      "outputs": [
        {
          "output_type": "execute_result",
          "data": {
            "text/plain": [
              "149"
            ]
          },
          "metadata": {
            "tags": []
          },
          "execution_count": 36
        }
      ]
    },
    {
      "cell_type": "code",
      "metadata": {
        "id": "BRTdpf74_FXs",
        "colab_type": "code",
        "outputId": "64b6721e-2ab4-42a6-db57-7cf819e847fe",
        "colab": {
          "base_uri": "https://localhost:8080/",
          "height": 35
        }
      },
      "source": [
        "len(groupby_users[groupby_users.event_date>1]),df_spenders.user_id.nunique()"
      ],
      "execution_count": 37,
      "outputs": [
        {
          "output_type": "execute_result",
          "data": {
            "text/plain": [
              "(149, 233)"
            ]
          },
          "metadata": {
            "tags": []
          },
          "execution_count": 37
        }
      ]
    },
    {
      "cell_type": "code",
      "metadata": {
        "id": "Bllvr9yw_f3k",
        "colab_type": "code",
        "outputId": "acbac68b-2a0b-4b8d-e125-e08f1ef257ca",
        "colab": {
          "base_uri": "https://localhost:8080/",
          "height": 35
        }
      },
      "source": [
        "percent = len(groupby_users[groupby_users.event_date>1]) / df_spenders.user_id.nunique()*100\n",
        "print(\"Percentage of users making a repeat purchase: \", round(percent,2), \"%\")"
      ],
      "execution_count": 38,
      "outputs": [
        {
          "output_type": "stream",
          "text": [
            "Percentage of users making a repeat purchase:  63.95 %\n"
          ],
          "name": "stdout"
        }
      ]
    },
    {
      "cell_type": "markdown",
      "metadata": {
        "id": "mcasSXdxZ0OQ",
        "colab_type": "text"
      },
      "source": [
        "#### Let's Plot the Graph representing the Percentage of Users who made repeat Purchase:"
      ]
    },
    {
      "cell_type": "code",
      "metadata": {
        "id": "Gw-c_bIEaB8i",
        "colab_type": "code",
        "colab": {
          "base_uri": "https://localhost:8080/",
          "height": 373
        },
        "outputId": "b5e5703e-f74a-4e31-9e21-7b441ffda78b"
      },
      "source": [
        "labels = ['Percentage of Users', 'Other Users']\n",
        "sizes = [round(percent,2), 100-round(percent,2)]\n",
        "plt.figure(figsize = (10,6))\n",
        "\n",
        "plt.pie(sizes, explode=[0.025, 0.025], labels=labels,\n",
        "        shadow=True, autopct='%1.1f%%', startangle=90)\n",
        "  # Equal aspect ratio ensures that pie is drawn as a circle.\n",
        "plt.title(\"Percentage of Users who made Repeat Purchase\")\n",
        "plt.show()"
      ],
      "execution_count": 39,
      "outputs": [
        {
          "output_type": "display_data",
          "data": {
            "image/png": "[encoded data removed]",
            "text/plain": [
              "<Figure size 720x432 with 1 Axes>"
            ]
          },
          "metadata": {
            "tags": []
          }
        }
      ]
    },
    {
      "cell_type": "code",
      "metadata": {
        "id": "NR2Vs-Fz_y8R",
        "colab_type": "code",
        "outputId": "9d903d1f-0af5-4dfb-88db-4d2c39e8c074",
        "colab": {
          "base_uri": "https://localhost:8080/",
          "height": 233
        }
      },
      "source": [
        "repeat_purchase_level = df_spenders.groupby(by = ['Level']).count().sort_values(by = 'user_id', ascending = False)\n",
        "repeat_purchase_level.head()"
      ],
      "execution_count": 40,
      "outputs": [
        {
          "output_type": "execute_result",
          "data": {
            "text/html": [
              "<div>\n",
              "<style scoped>\n",
              "    .dataframe tbody tr th:only-of-type {\n",
              "        vertical-align: middle;\n",
              "    }\n",
              "\n",
              "    .dataframe tbody tr th {\n",
              "        vertical-align: top;\n",
              "    }\n",
              "\n",
              "    .dataframe thead th {\n",
              "        text-align: right;\n",
              "    }\n",
              "</style>\n",
              "<table border=\"1\" class=\"dataframe\">\n",
              "  <thead>\n",
              "    <tr style=\"text-align: right;\">\n",
              "      <th></th>\n",
              "      <th>user_id</th>\n",
              "      <th>event_date</th>\n",
              "      <th>event_time</th>\n",
              "      <th>session_nb</th>\n",
              "      <th>Pack Name</th>\n",
              "      <th>money Spent</th>\n",
              "      <th>money_currency</th>\n",
              "    </tr>\n",
              "    <tr>\n",
              "      <th>Level</th>\n",
              "      <th></th>\n",
              "      <th></th>\n",
              "      <th></th>\n",
              "      <th></th>\n",
              "      <th></th>\n",
              "      <th></th>\n",
              "      <th></th>\n",
              "    </tr>\n",
              "  </thead>\n",
              "  <tbody>\n",
              "    <tr>\n",
              "      <th>1</th>\n",
              "      <td>271</td>\n",
              "      <td>271</td>\n",
              "      <td>271</td>\n",
              "      <td>271</td>\n",
              "      <td>271</td>\n",
              "      <td>271</td>\n",
              "      <td>271</td>\n",
              "    </tr>\n",
              "    <tr>\n",
              "      <th>2</th>\n",
              "      <td>192</td>\n",
              "      <td>192</td>\n",
              "      <td>192</td>\n",
              "      <td>192</td>\n",
              "      <td>192</td>\n",
              "      <td>192</td>\n",
              "      <td>192</td>\n",
              "    </tr>\n",
              "    <tr>\n",
              "      <th>10</th>\n",
              "      <td>155</td>\n",
              "      <td>155</td>\n",
              "      <td>155</td>\n",
              "      <td>155</td>\n",
              "      <td>155</td>\n",
              "      <td>155</td>\n",
              "      <td>155</td>\n",
              "    </tr>\n",
              "    <tr>\n",
              "      <th>0</th>\n",
              "      <td>145</td>\n",
              "      <td>145</td>\n",
              "      <td>145</td>\n",
              "      <td>145</td>\n",
              "      <td>145</td>\n",
              "      <td>145</td>\n",
              "      <td>145</td>\n",
              "    </tr>\n",
              "    <tr>\n",
              "      <th>3</th>\n",
              "      <td>144</td>\n",
              "      <td>144</td>\n",
              "      <td>144</td>\n",
              "      <td>144</td>\n",
              "      <td>144</td>\n",
              "      <td>144</td>\n",
              "      <td>144</td>\n",
              "    </tr>\n",
              "  </tbody>\n",
              "</table>\n",
              "</div>"
            ],
            "text/plain": [
              "       user_id  event_date  event_time  ...  Pack Name  money Spent  money_currency\n",
              "Level                                   ...                                        \n",
              "1          271         271         271  ...        271          271             271\n",
              "2          192         192         192  ...        192          192             192\n",
              "10         155         155         155  ...        155          155             155\n",
              "0          145         145         145  ...        145          145             145\n",
              "3          144         144         144  ...        144          144             144\n",
              "\n",
              "[5 rows x 7 columns]"
            ]
          },
          "metadata": {
            "tags": []
          },
          "execution_count": 40
        }
      ]
    },
    {
      "cell_type": "code",
      "metadata": {
        "id": "22hk7AKrAano",
        "colab_type": "code",
        "outputId": "38170e35-d42b-46d0-f45c-2b60a25ef76c",
        "colab": {
          "base_uri": "https://localhost:8080/",
          "height": 35
        }
      },
      "source": [
        "print(\"Top 5 levels with maximum repeat purchases are:\", repeat_purchase_level.index[:5].values)"
      ],
      "execution_count": 41,
      "outputs": [
        {
          "output_type": "stream",
          "text": [
            "Top 5 levels with maximum repeat purchases are: [ 1  2 10  0  3]\n"
          ],
          "name": "stdout"
        }
      ]
    },
    {
      "cell_type": "code",
      "metadata": {
        "id": "lcn8yJ4iDSs4",
        "colab_type": "code",
        "colab": {
          "base_uri": "https://localhost:8080/",
          "height": 497
        },
        "outputId": "6e51372a-283c-494e-84e9-c6d6f364c91e"
      },
      "source": [
        "plt.figure(figsize = (16,8))\n",
        "sns.barplot(x =  repeat_purchase_level.index , y = 'user_id', data = repeat_purchase_level, palette = 'CMRmap')\n",
        "plt.show()"
      ],
      "execution_count": 79,
      "outputs": [
        {
          "output_type": "display_data",
          "data": {
            "image/png": "[encoded data removed]",
            "text/plain": [
              "<Figure size 1152x576 with 1 Axes>"
            ]
          },
          "metadata": {
            "tags": []
          }
        }
      ]
    },
    {
      "cell_type": "markdown",
      "metadata": {
        "id": "1KrGBxOCESdV",
        "colab_type": "text"
      },
      "source": [
        "#### Which packs generate the maximum revenue? (Refer to Spenders tab)"
      ]
    },
    {
      "cell_type": "code",
      "metadata": {
        "id": "-nYvhEXVEjv9",
        "colab_type": "code",
        "outputId": "6fde1bbf-afa8-4d69-d23c-1a2a60bdff8e",
        "colab": {
          "base_uri": "https://localhost:8080/",
          "height": 52
        }
      },
      "source": [
        "df_spenders.money_currency.unique()"
      ],
      "execution_count": 54,
      "outputs": [
        {
          "output_type": "execute_result",
          "data": {
            "text/plain": [
              "array(['EUR', 'NZD', 'AUD', 'USD', 'GBP', 'INR', 'CAD', 'RUB', '$ AUD'],\n",
              "      dtype=object)"
            ]
          },
          "metadata": {
            "tags": []
          },
          "execution_count": 54
        }
      ]
    },
    {
      "cell_type": "code",
      "metadata": {
        "id": "IbHMvFV1FIG4",
        "colab_type": "code",
        "colab": {}
      },
      "source": [
        "dict_curr_to_INR = {\"EUR\": 78.75 , \"NZD\": 45.40,\"USD\" :70.55,\"AUD\": 48.75, \"GBP\": 91.24, \"INR\": 1 , \"CAD\": 53.82, \"RUB\": 1.11, '$ AUD': 48.75}"
      ],
      "execution_count": 0,
      "outputs": []
    },
    {
      "cell_type": "code",
      "metadata": {
        "id": "XWlvYUP_GYh_",
        "colab_type": "code",
        "outputId": "c0b8afbd-37b8-4954-efa3-59a6c912eaf1",
        "colab": {
          "base_uri": "https://localhost:8080/",
          "height": 306
        }
      },
      "source": [
        "df_spenders['INR_conv'] = df_spenders.money_currency.map(dict_curr_to_INR)\n",
        "df_spenders.head()"
      ],
      "execution_count": 56,
      "outputs": [
        {
          "output_type": "execute_result",
          "data": {
            "text/html": [
              "<div>\n",
              "<style scoped>\n",
              "    .dataframe tbody tr th:only-of-type {\n",
              "        vertical-align: middle;\n",
              "    }\n",
              "\n",
              "    .dataframe tbody tr th {\n",
              "        vertical-align: top;\n",
              "    }\n",
              "\n",
              "    .dataframe thead th {\n",
              "        text-align: right;\n",
              "    }\n",
              "</style>\n",
              "<table border=\"1\" class=\"dataframe\">\n",
              "  <thead>\n",
              "    <tr style=\"text-align: right;\">\n",
              "      <th></th>\n",
              "      <th>user_id</th>\n",
              "      <th>event_date</th>\n",
              "      <th>event_time</th>\n",
              "      <th>Level</th>\n",
              "      <th>session_nb</th>\n",
              "      <th>Pack Name</th>\n",
              "      <th>money Spent</th>\n",
              "      <th>money_currency</th>\n",
              "      <th>INR_conv</th>\n",
              "      <th>Money_Spent_INR</th>\n",
              "    </tr>\n",
              "  </thead>\n",
              "  <tbody>\n",
              "    <tr>\n",
              "      <th>0</th>\n",
              "      <td>8BF191CF-567A-4977-B2C9-90EC756EFD41</td>\n",
              "      <td>2015-10-01</td>\n",
              "      <td>2015-10-01 05:07:43</td>\n",
              "      <td>3</td>\n",
              "      <td>1</td>\n",
              "      <td>Shop 5750 Tokens</td>\n",
              "      <td>99.989998</td>\n",
              "      <td>EUR</td>\n",
              "      <td>78.75</td>\n",
              "      <td>7874.212332</td>\n",
              "    </tr>\n",
              "    <tr>\n",
              "      <th>1</th>\n",
              "      <td>936BAA84-CDE9-4C8F-A949-5E2CB077A9CE</td>\n",
              "      <td>2015-09-28</td>\n",
              "      <td>2015-09-28 06:22:52</td>\n",
              "      <td>1</td>\n",
              "      <td>1</td>\n",
              "      <td>Shop 17500 Orbs</td>\n",
              "      <td>1.990000</td>\n",
              "      <td>EUR</td>\n",
              "      <td>78.75</td>\n",
              "      <td>156.712501</td>\n",
              "    </tr>\n",
              "    <tr>\n",
              "      <th>2</th>\n",
              "      <td>52807659-0332-486C-99E4-84429A1830F3</td>\n",
              "      <td>2015-09-22</td>\n",
              "      <td>2015-09-22 10:54:39</td>\n",
              "      <td>14</td>\n",
              "      <td>1</td>\n",
              "      <td>Shop 490000 Orbs</td>\n",
              "      <td>49.990002</td>\n",
              "      <td>EUR</td>\n",
              "      <td>78.75</td>\n",
              "      <td>3936.712632</td>\n",
              "    </tr>\n",
              "    <tr>\n",
              "      <th>3</th>\n",
              "      <td>1CE1D120-D2FA-4DAF-80D2-9C5BBDCFB9A5</td>\n",
              "      <td>2015-10-17</td>\n",
              "      <td>2015-10-17 11:25:49</td>\n",
              "      <td>23</td>\n",
              "      <td>5</td>\n",
              "      <td>Shop 510 Tokens</td>\n",
              "      <td>9.990000</td>\n",
              "      <td>EUR</td>\n",
              "      <td>78.75</td>\n",
              "      <td>786.712482</td>\n",
              "    </tr>\n",
              "    <tr>\n",
              "      <th>4</th>\n",
              "      <td>1CE1D120-D2FA-4DAF-80D2-9C5BBDCFB9A5</td>\n",
              "      <td>2015-10-17</td>\n",
              "      <td>2015-10-17 11:23:50</td>\n",
              "      <td>23</td>\n",
              "      <td>5</td>\n",
              "      <td>Shop 100 Tokens</td>\n",
              "      <td>1.990000</td>\n",
              "      <td>EUR</td>\n",
              "      <td>78.75</td>\n",
              "      <td>156.712501</td>\n",
              "    </tr>\n",
              "  </tbody>\n",
              "</table>\n",
              "</div>"
            ],
            "text/plain": [
              "                                user_id event_date  ... INR_conv  Money_Spent_INR\n",
              "0  8BF191CF-567A-4977-B2C9-90EC756EFD41 2015-10-01  ...    78.75      7874.212332\n",
              "1  936BAA84-CDE9-4C8F-A949-5E2CB077A9CE 2015-09-28  ...    78.75       156.712501\n",
              "2  52807659-0332-486C-99E4-84429A1830F3 2015-09-22  ...    78.75      3936.712632\n",
              "3  1CE1D120-D2FA-4DAF-80D2-9C5BBDCFB9A5 2015-10-17  ...    78.75       786.712482\n",
              "4  1CE1D120-D2FA-4DAF-80D2-9C5BBDCFB9A5 2015-10-17  ...    78.75       156.712501\n",
              "\n",
              "[5 rows x 10 columns]"
            ]
          },
          "metadata": {
            "tags": []
          },
          "execution_count": 56
        }
      ]
    },
    {
      "cell_type": "code",
      "metadata": {
        "id": "UnwT-h94G8-m",
        "colab_type": "code",
        "outputId": "74ef764b-2cac-4bc0-ac24-9c75714cf451",
        "colab": {
          "base_uri": "https://localhost:8080/",
          "height": 173
        }
      },
      "source": [
        "df_spenders['INR_conv'].value_counts()"
      ],
      "execution_count": 57,
      "outputs": [
        {
          "output_type": "execute_result",
          "data": {
            "text/plain": [
              "78.75    1382\n",
              "48.75     253\n",
              "53.82     249\n",
              "45.40      44\n",
              "1.00       22\n",
              "91.24      21\n",
              "70.55       7\n",
              "1.11        3\n",
              "Name: INR_conv, dtype: int64"
            ]
          },
          "metadata": {
            "tags": []
          },
          "execution_count": 57
        }
      ]
    },
    {
      "cell_type": "code",
      "metadata": {
        "id": "ETfwVYb3HOV7",
        "colab_type": "code",
        "outputId": "74cf79e0-328d-4fd4-86b0-fda6d9d5d094",
        "colab": {
          "base_uri": "https://localhost:8080/",
          "height": 191
        }
      },
      "source": [
        "df_spenders['money_currency'].value_counts()"
      ],
      "execution_count": 58,
      "outputs": [
        {
          "output_type": "execute_result",
          "data": {
            "text/plain": [
              "EUR      1382\n",
              "AUD       252\n",
              "CAD       249\n",
              "NZD        44\n",
              "INR        22\n",
              "GBP        21\n",
              "USD         7\n",
              "RUB         3\n",
              "$ AUD       1\n",
              "Name: money_currency, dtype: int64"
            ]
          },
          "metadata": {
            "tags": []
          },
          "execution_count": 58
        }
      ]
    },
    {
      "cell_type": "code",
      "metadata": {
        "id": "4WT-As59Ha9d",
        "colab_type": "code",
        "outputId": "7a81131d-4aba-4ff7-b88a-3f2309b2f4d7",
        "colab": {
          "base_uri": "https://localhost:8080/",
          "height": 306
        }
      },
      "source": [
        "df_spenders.head()"
      ],
      "execution_count": 59,
      "outputs": [
        {
          "output_type": "execute_result",
          "data": {
            "text/html": [
              "<div>\n",
              "<style scoped>\n",
              "    .dataframe tbody tr th:only-of-type {\n",
              "        vertical-align: middle;\n",
              "    }\n",
              "\n",
              "    .dataframe tbody tr th {\n",
              "        vertical-align: top;\n",
              "    }\n",
              "\n",
              "    .dataframe thead th {\n",
              "        text-align: right;\n",
              "    }\n",
              "</style>\n",
              "<table border=\"1\" class=\"dataframe\">\n",
              "  <thead>\n",
              "    <tr style=\"text-align: right;\">\n",
              "      <th></th>\n",
              "      <th>user_id</th>\n",
              "      <th>event_date</th>\n",
              "      <th>event_time</th>\n",
              "      <th>Level</th>\n",
              "      <th>session_nb</th>\n",
              "      <th>Pack Name</th>\n",
              "      <th>money Spent</th>\n",
              "      <th>money_currency</th>\n",
              "      <th>INR_conv</th>\n",
              "      <th>Money_Spent_INR</th>\n",
              "    </tr>\n",
              "  </thead>\n",
              "  <tbody>\n",
              "    <tr>\n",
              "      <th>0</th>\n",
              "      <td>8BF191CF-567A-4977-B2C9-90EC756EFD41</td>\n",
              "      <td>2015-10-01</td>\n",
              "      <td>2015-10-01 05:07:43</td>\n",
              "      <td>3</td>\n",
              "      <td>1</td>\n",
              "      <td>Shop 5750 Tokens</td>\n",
              "      <td>99.989998</td>\n",
              "      <td>EUR</td>\n",
              "      <td>78.75</td>\n",
              "      <td>7874.212332</td>\n",
              "    </tr>\n",
              "    <tr>\n",
              "      <th>1</th>\n",
              "      <td>936BAA84-CDE9-4C8F-A949-5E2CB077A9CE</td>\n",
              "      <td>2015-09-28</td>\n",
              "      <td>2015-09-28 06:22:52</td>\n",
              "      <td>1</td>\n",
              "      <td>1</td>\n",
              "      <td>Shop 17500 Orbs</td>\n",
              "      <td>1.990000</td>\n",
              "      <td>EUR</td>\n",
              "      <td>78.75</td>\n",
              "      <td>156.712501</td>\n",
              "    </tr>\n",
              "    <tr>\n",
              "      <th>2</th>\n",
              "      <td>52807659-0332-486C-99E4-84429A1830F3</td>\n",
              "      <td>2015-09-22</td>\n",
              "      <td>2015-09-22 10:54:39</td>\n",
              "      <td>14</td>\n",
              "      <td>1</td>\n",
              "      <td>Shop 490000 Orbs</td>\n",
              "      <td>49.990002</td>\n",
              "      <td>EUR</td>\n",
              "      <td>78.75</td>\n",
              "      <td>3936.712632</td>\n",
              "    </tr>\n",
              "    <tr>\n",
              "      <th>3</th>\n",
              "      <td>1CE1D120-D2FA-4DAF-80D2-9C5BBDCFB9A5</td>\n",
              "      <td>2015-10-17</td>\n",
              "      <td>2015-10-17 11:25:49</td>\n",
              "      <td>23</td>\n",
              "      <td>5</td>\n",
              "      <td>Shop 510 Tokens</td>\n",
              "      <td>9.990000</td>\n",
              "      <td>EUR</td>\n",
              "      <td>78.75</td>\n",
              "      <td>786.712482</td>\n",
              "    </tr>\n",
              "    <tr>\n",
              "      <th>4</th>\n",
              "      <td>1CE1D120-D2FA-4DAF-80D2-9C5BBDCFB9A5</td>\n",
              "      <td>2015-10-17</td>\n",
              "      <td>2015-10-17 11:23:50</td>\n",
              "      <td>23</td>\n",
              "      <td>5</td>\n",
              "      <td>Shop 100 Tokens</td>\n",
              "      <td>1.990000</td>\n",
              "      <td>EUR</td>\n",
              "      <td>78.75</td>\n",
              "      <td>156.712501</td>\n",
              "    </tr>\n",
              "  </tbody>\n",
              "</table>\n",
              "</div>"
            ],
            "text/plain": [
              "                                user_id event_date  ... INR_conv  Money_Spent_INR\n",
              "0  8BF191CF-567A-4977-B2C9-90EC756EFD41 2015-10-01  ...    78.75      7874.212332\n",
              "1  936BAA84-CDE9-4C8F-A949-5E2CB077A9CE 2015-09-28  ...    78.75       156.712501\n",
              "2  52807659-0332-486C-99E4-84429A1830F3 2015-09-22  ...    78.75      3936.712632\n",
              "3  1CE1D120-D2FA-4DAF-80D2-9C5BBDCFB9A5 2015-10-17  ...    78.75       786.712482\n",
              "4  1CE1D120-D2FA-4DAF-80D2-9C5BBDCFB9A5 2015-10-17  ...    78.75       156.712501\n",
              "\n",
              "[5 rows x 10 columns]"
            ]
          },
          "metadata": {
            "tags": []
          },
          "execution_count": 59
        }
      ]
    },
    {
      "cell_type": "code",
      "metadata": {
        "id": "MvF19qMJH1Mz",
        "colab_type": "code",
        "outputId": "1e935ac5-0dbd-4554-a1b8-f06a19e582d3",
        "colab": {
          "base_uri": "https://localhost:8080/",
          "height": 202
        }
      },
      "source": [
        "df_spenders[\"Money_Spent_INR\"] = df_spenders['money Spent']* df_spenders['INR_conv']\n",
        "df_spenders[[\"Pack Name\",\"Money_Spent_INR\"]].head()"
      ],
      "execution_count": 60,
      "outputs": [
        {
          "output_type": "execute_result",
          "data": {
            "text/html": [
              "<div>\n",
              "<style scoped>\n",
              "    .dataframe tbody tr th:only-of-type {\n",
              "        vertical-align: middle;\n",
              "    }\n",
              "\n",
              "    .dataframe tbody tr th {\n",
              "        vertical-align: top;\n",
              "    }\n",
              "\n",
              "    .dataframe thead th {\n",
              "        text-align: right;\n",
              "    }\n",
              "</style>\n",
              "<table border=\"1\" class=\"dataframe\">\n",
              "  <thead>\n",
              "    <tr style=\"text-align: right;\">\n",
              "      <th></th>\n",
              "      <th>Pack Name</th>\n",
              "      <th>Money_Spent_INR</th>\n",
              "    </tr>\n",
              "  </thead>\n",
              "  <tbody>\n",
              "    <tr>\n",
              "      <th>0</th>\n",
              "      <td>Shop 5750 Tokens</td>\n",
              "      <td>7874.212332</td>\n",
              "    </tr>\n",
              "    <tr>\n",
              "      <th>1</th>\n",
              "      <td>Shop 17500 Orbs</td>\n",
              "      <td>156.712501</td>\n",
              "    </tr>\n",
              "    <tr>\n",
              "      <th>2</th>\n",
              "      <td>Shop 490000 Orbs</td>\n",
              "      <td>3936.712632</td>\n",
              "    </tr>\n",
              "    <tr>\n",
              "      <th>3</th>\n",
              "      <td>Shop 510 Tokens</td>\n",
              "      <td>786.712482</td>\n",
              "    </tr>\n",
              "    <tr>\n",
              "      <th>4</th>\n",
              "      <td>Shop 100 Tokens</td>\n",
              "      <td>156.712501</td>\n",
              "    </tr>\n",
              "  </tbody>\n",
              "</table>\n",
              "</div>"
            ],
            "text/plain": [
              "          Pack Name  Money_Spent_INR\n",
              "0  Shop 5750 Tokens      7874.212332\n",
              "1   Shop 17500 Orbs       156.712501\n",
              "2  Shop 490000 Orbs      3936.712632\n",
              "3   Shop 510 Tokens       786.712482\n",
              "4   Shop 100 Tokens       156.712501"
            ]
          },
          "metadata": {
            "tags": []
          },
          "execution_count": 60
        }
      ]
    },
    {
      "cell_type": "code",
      "metadata": {
        "id": "GhU9lKnhI497",
        "colab_type": "code",
        "outputId": "ebd72393-0932-48ec-bc98-fcaa7cb0f985",
        "colab": {
          "base_uri": "https://localhost:8080/",
          "height": 233
        }
      },
      "source": [
        "df_revenue_per_pack = df_spenders[[\"Pack Name\",\"Money_Spent_INR\"]].groupby(\"Pack Name\").sum()\n",
        "df_revenue_per_pack = df_revenue_per_pack.sort_values(by =  'Money_Spent_INR', ascending = False)\n",
        "df_revenue_per_pack.head()"
      ],
      "execution_count": 61,
      "outputs": [
        {
          "output_type": "execute_result",
          "data": {
            "text/html": [
              "<div>\n",
              "<style scoped>\n",
              "    .dataframe tbody tr th:only-of-type {\n",
              "        vertical-align: middle;\n",
              "    }\n",
              "\n",
              "    .dataframe tbody tr th {\n",
              "        vertical-align: top;\n",
              "    }\n",
              "\n",
              "    .dataframe thead th {\n",
              "        text-align: right;\n",
              "    }\n",
              "</style>\n",
              "<table border=\"1\" class=\"dataframe\">\n",
              "  <thead>\n",
              "    <tr style=\"text-align: right;\">\n",
              "      <th></th>\n",
              "      <th>Money_Spent_INR</th>\n",
              "    </tr>\n",
              "    <tr>\n",
              "      <th>Pack Name</th>\n",
              "      <th></th>\n",
              "    </tr>\n",
              "  </thead>\n",
              "  <tbody>\n",
              "    <tr>\n",
              "      <th>Shop 5750 Tokens</th>\n",
              "      <td>1.613134e+06</td>\n",
              "    </tr>\n",
              "    <tr>\n",
              "      <th>Shop 1006250 Orbs</th>\n",
              "      <td>7.506765e+05</td>\n",
              "    </tr>\n",
              "    <tr>\n",
              "      <th>Shop 2800 Tokens</th>\n",
              "      <td>4.001274e+05</td>\n",
              "    </tr>\n",
              "    <tr>\n",
              "      <th>Shop 490000 Orbs</th>\n",
              "      <td>2.412642e+05</td>\n",
              "    </tr>\n",
              "    <tr>\n",
              "      <th>Shop 510 Tokens</th>\n",
              "      <td>1.236992e+05</td>\n",
              "    </tr>\n",
              "  </tbody>\n",
              "</table>\n",
              "</div>"
            ],
            "text/plain": [
              "                   Money_Spent_INR\n",
              "Pack Name                         \n",
              "Shop 5750 Tokens      1.613134e+06\n",
              "Shop 1006250 Orbs     7.506765e+05\n",
              "Shop 2800 Tokens      4.001274e+05\n",
              "Shop 490000 Orbs      2.412642e+05\n",
              "Shop 510 Tokens       1.236992e+05"
            ]
          },
          "metadata": {
            "tags": []
          },
          "execution_count": 61
        }
      ]
    },
    {
      "cell_type": "code",
      "metadata": {
        "id": "sPUYIS5WMGBw",
        "colab_type": "code",
        "colab": {}
      },
      "source": [
        "\n"
      ],
      "execution_count": 0,
      "outputs": []
    },
    {
      "cell_type": "code",
      "metadata": {
        "id": "d3ve7OVEOeFq",
        "colab_type": "code",
        "outputId": "d541c4cb-6a2b-4e85-8a66-9b20c190ef5c",
        "colab": {
          "base_uri": "https://localhost:8080/",
          "height": 52
        }
      },
      "source": [
        "print(\"Top 5 Packs generating Maximum Revenue are: \" ,  df_revenue_per_pack.index.values[:5]) "
      ],
      "execution_count": 62,
      "outputs": [
        {
          "output_type": "stream",
          "text": [
            "Top 5 Packs generating Maximum Revenue are:  ['Shop 5750 Tokens' 'Shop 1006250 Orbs' 'Shop 2800 Tokens'\n",
            " 'Shop 490000 Orbs' 'Shop 510 Tokens']\n"
          ],
          "name": "stdout"
        }
      ]
    },
    {
      "cell_type": "code",
      "metadata": {
        "id": "iNY4BjhBPATO",
        "colab_type": "code",
        "colab": {
          "base_uri": "https://localhost:8080/",
          "height": 588
        },
        "outputId": "07c922f2-90ad-443b-92fd-1d008a5db200"
      },
      "source": [
        "plt.figure(figsize = (16,8))\n",
        "chart = sns.barplot(x =  df_revenue_per_pack.head(15).index , y = 'Money_Spent_INR', data = df_revenue_per_pack.head(15) , palette='Set1')\n",
        "chart.set_xticklabels(chart.get_xticklabels(), rotation=45)\n",
        "plt.title(\"Top 10 packs generating Maximum Revenue\")\n",
        "plt.show()"
      ],
      "execution_count": 63,
      "outputs": [
        {
          "output_type": "display_data",
          "data": {
            "image/png": "[encoded data removed]",
            "text/plain": [
              "<Figure size 1152x576 with 1 Axes>"
            ]
          },
          "metadata": {
            "tags": []
          }
        }
      ]
    },
    {
      "cell_type": "code",
      "metadata": {
        "id": "REOCMOvfazis",
        "colab_type": "code",
        "colab": {
          "base_uri": "https://localhost:8080/",
          "height": 233
        },
        "outputId": "0d3ddc82-28a7-4cfd-9be8-c4d749987317"
      },
      "source": [
        "df_revenue_per_pack['Money_Spent_INR'] = df_revenue_per_pack['Money_Spent_INR'].apply(lambda x: '{:.2f}'.format(x))\n",
        "df_revenue_per_pack.head()"
      ],
      "execution_count": 64,
      "outputs": [
        {
          "output_type": "execute_result",
          "data": {
            "text/html": [
              "<div>\n",
              "<style scoped>\n",
              "    .dataframe tbody tr th:only-of-type {\n",
              "        vertical-align: middle;\n",
              "    }\n",
              "\n",
              "    .dataframe tbody tr th {\n",
              "        vertical-align: top;\n",
              "    }\n",
              "\n",
              "    .dataframe thead th {\n",
              "        text-align: right;\n",
              "    }\n",
              "</style>\n",
              "<table border=\"1\" class=\"dataframe\">\n",
              "  <thead>\n",
              "    <tr style=\"text-align: right;\">\n",
              "      <th></th>\n",
              "      <th>Money_Spent_INR</th>\n",
              "    </tr>\n",
              "    <tr>\n",
              "      <th>Pack Name</th>\n",
              "      <th></th>\n",
              "    </tr>\n",
              "  </thead>\n",
              "  <tbody>\n",
              "    <tr>\n",
              "      <th>Shop 5750 Tokens</th>\n",
              "      <td>1613134.10</td>\n",
              "    </tr>\n",
              "    <tr>\n",
              "      <th>Shop 1006250 Orbs</th>\n",
              "      <td>750676.49</td>\n",
              "    </tr>\n",
              "    <tr>\n",
              "      <th>Shop 2800 Tokens</th>\n",
              "      <td>400127.36</td>\n",
              "    </tr>\n",
              "    <tr>\n",
              "      <th>Shop 490000 Orbs</th>\n",
              "      <td>241264.20</td>\n",
              "    </tr>\n",
              "    <tr>\n",
              "      <th>Shop 510 Tokens</th>\n",
              "      <td>123699.15</td>\n",
              "    </tr>\n",
              "  </tbody>\n",
              "</table>\n",
              "</div>"
            ],
            "text/plain": [
              "                  Money_Spent_INR\n",
              "Pack Name                        \n",
              "Shop 5750 Tokens       1613134.10\n",
              "Shop 1006250 Orbs       750676.49\n",
              "Shop 2800 Tokens        400127.36\n",
              "Shop 490000 Orbs        241264.20\n",
              "Shop 510 Tokens         123699.15"
            ]
          },
          "metadata": {
            "tags": []
          },
          "execution_count": 64
        }
      ]
    },
    {
      "cell_type": "code",
      "metadata": {
        "id": "cCBFSqaTeFnn",
        "colab_type": "code",
        "colab": {}
      },
      "source": [
        ""
      ],
      "execution_count": 0,
      "outputs": []
    }
  ]
}