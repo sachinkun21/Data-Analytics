{
  "nbformat": 4,
  "nbformat_minor": 0,
  "metadata": {
    "colab": {
      "name": "yozoo_Assignment.ipynb",
      "provenance": [],
      "collapsed_sections": [],
      "include_colab_link": true
    },
    "kernelspec": {
      "name": "python3",
      "display_name": "Python 3"
    }
  },
  "cells": [
    {
      "cell_type": "markdown",
      "metadata": {
        "id": "view-in-github",
        "colab_type": "text"
      },
      "source": [
        "<a href=\"https://colab.research.google.com/github/sachinkun21/Data-Analytics/blob/master/yozoo_Assignment.ipynb\" target=\"_parent\"><img src=\"https://colab.research.google.com/assets/colab-badge.svg\" alt=\"Open In Colab\"/></a>"
      ]
    },
    {
      "cell_type": "markdown",
      "metadata": {
        "id": "FttFpiXiHYD8",
        "colab_type": "text"
      },
      "source": [
        "QUESTIONS-\n",
        "1. From the given Dataset, determine and analyze Day 1, Day 3, Day 7, Day 15 and Day 30\n",
        "Retention. (Refer to Session start tab)\n",
        "2. Create a Funnel of level progression and determine if any areas of the game are acting as\n",
        "blockers. (Refer to Level Start tab). Also, identify how many times levels are replayed.\n",
        "3. What percentage of users make first time purchases between levels 1 to 7? (Refer to Spenders\n",
        "tab)\n",
        "4. What percentage of users make a repeat purchase? At what level maximum repeat purchases\n",
        "happen? (Refer to Spenders tab)\n",
        "5. Which packs generate the maximum revenue? (Refer to Spenders tab)"
      ]
    },
    {
      "cell_type": "markdown",
      "metadata": {
        "id": "8SskqZyxHZIz",
        "colab_type": "text"
      },
      "source": [
        "- Session: Current session of the user. Every time the user opens the game(app) session gets incremented.\n",
        "So, the first session would be 1 and every time the user will open the app the session number\n",
        "will increase.\n",
        "- Level: The current level of the user. \n",
        "\n",
        "\n",
        "Funneling: The funnel won't need that many fields to work with. Think of it as something very similar to\n",
        "a sales funnel. We just want to see a representation of how many players are progressing across every\n",
        "level. Then you may derive insights using that to find if any particular levels are more difficult, thus may\n",
        "act as blockers."
      ]
    },
    {
      "cell_type": "code",
      "metadata": {
        "id": "g5tUmwfYHYc8",
        "colab_type": "code",
        "colab": {}
      },
      "source": [
        ""
      ],
      "execution_count": 0,
      "outputs": []
    },
    {
      "cell_type": "code",
      "metadata": {
        "id": "pXDXhdNIEGk-",
        "colab_type": "code",
        "colab": {}
      },
      "source": [
        "import pandas as pd\n",
        "import numpy as np"
      ],
      "execution_count": 0,
      "outputs": []
    },
    {
      "cell_type": "code",
      "metadata": {
        "id": "ajRgzHqrETTS",
        "colab_type": "code",
        "outputId": "1915faa9-d2d8-4875-963e-c07ad880f3ab",
        "colab": {
          "base_uri": "https://localhost:8080/",
          "height": 122
        }
      },
      "source": [
        "from google.colab import drive\n",
        "drive.mount('/content/drive')\n"
      ],
      "execution_count": 2,
      "outputs": [
        {
          "output_type": "stream",
          "text": [
            "Go to this URL in a browser: https://accounts.google.com/o/oauth2/auth?client_id=947318989803-6bn6qk8qdgf4n4g3pfee6491hc0brc4i.apps.googleusercontent.com&redirect_uri=urn%3Aietf%3Awg%3Aoauth%3A2.0%3Aoob&scope=email%20https%3A%2F%2Fwww.googleapis.com%2Fauth%2Fdocs.test%20https%3A%2F%2Fwww.googleapis.com%2Fauth%2Fdrive%20https%3A%2F%2Fwww.googleapis.com%2Fauth%2Fdrive.photos.readonly%20https%3A%2F%2Fwww.googleapis.com%2Fauth%2Fpeopleapi.readonly&response_type=code\n",
            "\n",
            "Enter your authorization code:\n",
            "··········\n",
            "Mounted at /content/drive\n"
          ],
          "name": "stdout"
        }
      ]
    },
    {
      "cell_type": "code",
      "metadata": {
        "id": "_CnShHkoENft",
        "colab_type": "code",
        "outputId": "4aa3082d-1d34-406e-ea62-a898ebd5440b",
        "colab": {
          "base_uri": "https://localhost:8080/",
          "height": 34
        }
      },
      "source": [
        "ls '/content/drive/My Drive/DataScience'"
      ],
      "execution_count": 3,
      "outputs": [
        {
          "output_type": "stream",
          "text": [
            "Assignment.docx  Dataset.xlsx  Employee.csv  Employee_HR.csv  transaction.csv\n"
          ],
          "name": "stdout"
        }
      ]
    },
    {
      "cell_type": "code",
      "metadata": {
        "id": "h-wlvJVREnlR",
        "colab_type": "code",
        "outputId": "ba2b0e23-786f-47dd-df53-b6926e95c2f2",
        "colab": {
          "base_uri": "https://localhost:8080/",
          "height": 204
        }
      },
      "source": [
        "df_level_start = pd.read_excel('/content/drive/My Drive/DataScience/Dataset.xlsx', parse_dates=['event_date','event_time'])\n",
        "df_level_start.head()"
      ],
      "execution_count": 4,
      "outputs": [
        {
          "output_type": "execute_result",
          "data": {
            "text/html": [
              "<div>\n",
              "<style scoped>\n",
              "    .dataframe tbody tr th:only-of-type {\n",
              "        vertical-align: middle;\n",
              "    }\n",
              "\n",
              "    .dataframe tbody tr th {\n",
              "        vertical-align: top;\n",
              "    }\n",
              "\n",
              "    .dataframe thead th {\n",
              "        text-align: right;\n",
              "    }\n",
              "</style>\n",
              "<table border=\"1\" class=\"dataframe\">\n",
              "  <thead>\n",
              "    <tr style=\"text-align: right;\">\n",
              "      <th></th>\n",
              "      <th>user_id</th>\n",
              "      <th>event_date</th>\n",
              "      <th>event_time</th>\n",
              "      <th>Level__ID</th>\n",
              "      <th>session_nb</th>\n",
              "    </tr>\n",
              "  </thead>\n",
              "  <tbody>\n",
              "    <tr>\n",
              "      <th>0</th>\n",
              "      <td>6BED1A04-43A3-431D-B908-5CD3E3843B5C</td>\n",
              "      <td>2015-10-14</td>\n",
              "      <td>2015-10-14 10:28:14</td>\n",
              "      <td>18</td>\n",
              "      <td>4</td>\n",
              "    </tr>\n",
              "    <tr>\n",
              "      <th>1</th>\n",
              "      <td>FEAE206C-02E5-4610-B2A5-0EC5CBC73BBD</td>\n",
              "      <td>2015-10-14</td>\n",
              "      <td>2015-10-14 10:01:51</td>\n",
              "      <td>13</td>\n",
              "      <td>9</td>\n",
              "    </tr>\n",
              "    <tr>\n",
              "      <th>2</th>\n",
              "      <td>DC155AB7-3728-4E8D-A933-1BD7A0BC993A</td>\n",
              "      <td>2015-10-14</td>\n",
              "      <td>2015-10-14 09:24:43</td>\n",
              "      <td>1</td>\n",
              "      <td>3</td>\n",
              "    </tr>\n",
              "    <tr>\n",
              "      <th>3</th>\n",
              "      <td>6BED1A04-43A3-431D-B908-5CD3E3843B5C</td>\n",
              "      <td>2015-10-14</td>\n",
              "      <td>2015-10-14 09:16:08</td>\n",
              "      <td>15</td>\n",
              "      <td>3</td>\n",
              "    </tr>\n",
              "    <tr>\n",
              "      <th>4</th>\n",
              "      <td>6BED1A04-43A3-431D-B908-5CD3E3843B5C</td>\n",
              "      <td>2015-10-14</td>\n",
              "      <td>2015-10-14 09:17:07</td>\n",
              "      <td>15</td>\n",
              "      <td>3</td>\n",
              "    </tr>\n",
              "  </tbody>\n",
              "</table>\n",
              "</div>"
            ],
            "text/plain": [
              "                                user_id event_date  ... Level__ID  session_nb\n",
              "0  6BED1A04-43A3-431D-B908-5CD3E3843B5C 2015-10-14  ...        18           4\n",
              "1  FEAE206C-02E5-4610-B2A5-0EC5CBC73BBD 2015-10-14  ...        13           9\n",
              "2  DC155AB7-3728-4E8D-A933-1BD7A0BC993A 2015-10-14  ...         1           3\n",
              "3  6BED1A04-43A3-431D-B908-5CD3E3843B5C 2015-10-14  ...        15           3\n",
              "4  6BED1A04-43A3-431D-B908-5CD3E3843B5C 2015-10-14  ...        15           3\n",
              "\n",
              "[5 rows x 5 columns]"
            ]
          },
          "metadata": {
            "tags": []
          },
          "execution_count": 4
        }
      ]
    },
    {
      "cell_type": "code",
      "metadata": {
        "id": "z9HAF56pJAmF",
        "colab_type": "code",
        "outputId": "a80ae0c4-30e8-4a0f-d61d-981cf65b5247",
        "colab": {
          "base_uri": "https://localhost:8080/",
          "height": 204
        }
      },
      "source": [
        "df_spenders = pd.read_excel('/content/drive/My Drive/DataScience/Dataset.xlsx', parse_dates=['event_date','event_time'], sheet_name = 1)\n",
        "df_spenders.head()"
      ],
      "execution_count": 5,
      "outputs": [
        {
          "output_type": "execute_result",
          "data": {
            "text/html": [
              "<div>\n",
              "<style scoped>\n",
              "    .dataframe tbody tr th:only-of-type {\n",
              "        vertical-align: middle;\n",
              "    }\n",
              "\n",
              "    .dataframe tbody tr th {\n",
              "        vertical-align: top;\n",
              "    }\n",
              "\n",
              "    .dataframe thead th {\n",
              "        text-align: right;\n",
              "    }\n",
              "</style>\n",
              "<table border=\"1\" class=\"dataframe\">\n",
              "  <thead>\n",
              "    <tr style=\"text-align: right;\">\n",
              "      <th></th>\n",
              "      <th>user_id</th>\n",
              "      <th>event_date</th>\n",
              "      <th>event_time</th>\n",
              "      <th>Level</th>\n",
              "      <th>session_nb</th>\n",
              "      <th>Pack Name</th>\n",
              "      <th>money Spent</th>\n",
              "      <th>money_currency</th>\n",
              "    </tr>\n",
              "  </thead>\n",
              "  <tbody>\n",
              "    <tr>\n",
              "      <th>0</th>\n",
              "      <td>8BF191CF-567A-4977-B2C9-90EC756EFD41</td>\n",
              "      <td>2015-10-01</td>\n",
              "      <td>2015-10-01 05:07:43</td>\n",
              "      <td>3</td>\n",
              "      <td>1</td>\n",
              "      <td>Shop 5750 Tokens</td>\n",
              "      <td>99.989998</td>\n",
              "      <td>EUR</td>\n",
              "    </tr>\n",
              "    <tr>\n",
              "      <th>1</th>\n",
              "      <td>936BAA84-CDE9-4C8F-A949-5E2CB077A9CE</td>\n",
              "      <td>2015-09-28</td>\n",
              "      <td>2015-09-28 06:22:52</td>\n",
              "      <td>1</td>\n",
              "      <td>1</td>\n",
              "      <td>Shop 17500 Orbs</td>\n",
              "      <td>1.990000</td>\n",
              "      <td>EUR</td>\n",
              "    </tr>\n",
              "    <tr>\n",
              "      <th>2</th>\n",
              "      <td>52807659-0332-486C-99E4-84429A1830F3</td>\n",
              "      <td>2015-09-22</td>\n",
              "      <td>2015-09-22 10:54:39</td>\n",
              "      <td>14</td>\n",
              "      <td>1</td>\n",
              "      <td>Shop 490000 Orbs</td>\n",
              "      <td>49.990002</td>\n",
              "      <td>EUR</td>\n",
              "    </tr>\n",
              "    <tr>\n",
              "      <th>3</th>\n",
              "      <td>1CE1D120-D2FA-4DAF-80D2-9C5BBDCFB9A5</td>\n",
              "      <td>2015-10-17</td>\n",
              "      <td>2015-10-17 11:25:49</td>\n",
              "      <td>23</td>\n",
              "      <td>5</td>\n",
              "      <td>Shop 510 Tokens</td>\n",
              "      <td>9.990000</td>\n",
              "      <td>EUR</td>\n",
              "    </tr>\n",
              "    <tr>\n",
              "      <th>4</th>\n",
              "      <td>1CE1D120-D2FA-4DAF-80D2-9C5BBDCFB9A5</td>\n",
              "      <td>2015-10-17</td>\n",
              "      <td>2015-10-17 11:23:50</td>\n",
              "      <td>23</td>\n",
              "      <td>5</td>\n",
              "      <td>Shop 100 Tokens</td>\n",
              "      <td>1.990000</td>\n",
              "      <td>EUR</td>\n",
              "    </tr>\n",
              "  </tbody>\n",
              "</table>\n",
              "</div>"
            ],
            "text/plain": [
              "                                user_id event_date  ... money Spent  money_currency\n",
              "0  8BF191CF-567A-4977-B2C9-90EC756EFD41 2015-10-01  ...   99.989998             EUR\n",
              "1  936BAA84-CDE9-4C8F-A949-5E2CB077A9CE 2015-09-28  ...    1.990000             EUR\n",
              "2  52807659-0332-486C-99E4-84429A1830F3 2015-09-22  ...   49.990002             EUR\n",
              "3  1CE1D120-D2FA-4DAF-80D2-9C5BBDCFB9A5 2015-10-17  ...    9.990000             EUR\n",
              "4  1CE1D120-D2FA-4DAF-80D2-9C5BBDCFB9A5 2015-10-17  ...    1.990000             EUR\n",
              "\n",
              "[5 rows x 8 columns]"
            ]
          },
          "metadata": {
            "tags": []
          },
          "execution_count": 5
        }
      ]
    },
    {
      "cell_type": "code",
      "metadata": {
        "id": "KGROukxVJAgx",
        "colab_type": "code",
        "outputId": "9ca2c359-1981-4365-bae3-53fb62ee0bce",
        "colab": {
          "base_uri": "https://localhost:8080/",
          "height": 204
        }
      },
      "source": [
        "df_session_start = pd.read_excel('/content/drive/My Drive/DataScience/Dataset.xlsx', parse_dates=['event_date','event_time'], sheet_name = 2)\n",
        "df_session_start.head()"
      ],
      "execution_count": 6,
      "outputs": [
        {
          "output_type": "execute_result",
          "data": {
            "text/html": [
              "<div>\n",
              "<style scoped>\n",
              "    .dataframe tbody tr th:only-of-type {\n",
              "        vertical-align: middle;\n",
              "    }\n",
              "\n",
              "    .dataframe tbody tr th {\n",
              "        vertical-align: top;\n",
              "    }\n",
              "\n",
              "    .dataframe thead th {\n",
              "        text-align: right;\n",
              "    }\n",
              "</style>\n",
              "<table border=\"1\" class=\"dataframe\">\n",
              "  <thead>\n",
              "    <tr style=\"text-align: right;\">\n",
              "      <th></th>\n",
              "      <th>user_id</th>\n",
              "      <th>event_date</th>\n",
              "      <th>event_time</th>\n",
              "      <th>device_name</th>\n",
              "      <th>session_nb</th>\n",
              "      <th>user_country</th>\n",
              "    </tr>\n",
              "  </thead>\n",
              "  <tbody>\n",
              "    <tr>\n",
              "      <th>0</th>\n",
              "      <td>FEAE206C-02E5-4610-B2A5-0EC5CBC73BBD</td>\n",
              "      <td>2015-10-14</td>\n",
              "      <td>2015-10-14 10:00:09</td>\n",
              "      <td>iPadAir</td>\n",
              "      <td>9</td>\n",
              "      <td>IN</td>\n",
              "    </tr>\n",
              "    <tr>\n",
              "      <th>1</th>\n",
              "      <td>FEAE206C-02E5-4610-B2A5-0EC5CBC73BBD</td>\n",
              "      <td>2015-10-14</td>\n",
              "      <td>2015-10-14 09:56:46</td>\n",
              "      <td>iPadAir</td>\n",
              "      <td>9</td>\n",
              "      <td>IN</td>\n",
              "    </tr>\n",
              "    <tr>\n",
              "      <th>2</th>\n",
              "      <td>DC155AB7-3728-4E8D-A933-1BD7A0BC993A</td>\n",
              "      <td>2015-10-14</td>\n",
              "      <td>2015-10-14 09:23:21</td>\n",
              "      <td>iPhone6</td>\n",
              "      <td>3</td>\n",
              "      <td>CN</td>\n",
              "    </tr>\n",
              "    <tr>\n",
              "      <th>3</th>\n",
              "      <td>C47A6FCE-6C76-41FE-9A6A-173AC7F01315</td>\n",
              "      <td>2015-10-14</td>\n",
              "      <td>2015-10-14 09:21:32</td>\n",
              "      <td>iPod5</td>\n",
              "      <td>3</td>\n",
              "      <td>IN</td>\n",
              "    </tr>\n",
              "    <tr>\n",
              "      <th>4</th>\n",
              "      <td>6BED1A04-43A3-431D-B908-5CD3E3843B5C</td>\n",
              "      <td>2015-10-14</td>\n",
              "      <td>2015-10-14 08:57:33</td>\n",
              "      <td>iPhone6+</td>\n",
              "      <td>3</td>\n",
              "      <td>IN</td>\n",
              "    </tr>\n",
              "  </tbody>\n",
              "</table>\n",
              "</div>"
            ],
            "text/plain": [
              "                                user_id event_date  ... session_nb user_country\n",
              "0  FEAE206C-02E5-4610-B2A5-0EC5CBC73BBD 2015-10-14  ...          9           IN\n",
              "1  FEAE206C-02E5-4610-B2A5-0EC5CBC73BBD 2015-10-14  ...          9           IN\n",
              "2  DC155AB7-3728-4E8D-A933-1BD7A0BC993A 2015-10-14  ...          3           CN\n",
              "3  C47A6FCE-6C76-41FE-9A6A-173AC7F01315 2015-10-14  ...          3           IN\n",
              "4  6BED1A04-43A3-431D-B908-5CD3E3843B5C 2015-10-14  ...          3           IN\n",
              "\n",
              "[5 rows x 6 columns]"
            ]
          },
          "metadata": {
            "tags": []
          },
          "execution_count": 6
        }
      ]
    },
    {
      "cell_type": "code",
      "metadata": {
        "id": "6YeF08VvGJYb",
        "colab_type": "code",
        "outputId": "d8468682-d783-4e55-9d2e-32c32cffe7b2",
        "colab": {
          "base_uri": "https://localhost:8080/",
          "height": 204
        }
      },
      "source": [
        "df_session_start.info()"
      ],
      "execution_count": 10,
      "outputs": [
        {
          "output_type": "stream",
          "text": [
            "<class 'pandas.core.frame.DataFrame'>\n",
            "RangeIndex: 42897 entries, 0 to 42896\n",
            "Data columns (total 6 columns):\n",
            "user_id         42897 non-null object\n",
            "event_date      42897 non-null datetime64[ns]\n",
            "event_time      42897 non-null datetime64[ns]\n",
            "device_name     42897 non-null object\n",
            "session_nb      42897 non-null int64\n",
            "user_country    42897 non-null object\n",
            "dtypes: datetime64[ns](2), int64(1), object(3)\n",
            "memory usage: 2.0+ MB\n"
          ],
          "name": "stdout"
        }
      ]
    },
    {
      "cell_type": "code",
      "metadata": {
        "id": "UMIIen_bGTEH",
        "colab_type": "code",
        "outputId": "eb6232ea-6a9a-4616-d3aa-dbe983c1aa61",
        "colab": {
          "base_uri": "https://localhost:8080/",
          "height": 34
        }
      },
      "source": [
        "print(\"Count of Unique Users: \",df_session_start.user_id.nunique() )\n",
        "# print(\"Count of Unique Levels: \",df_session_start.Level.nunique() )\n",
        "# print(\"Unique Labels: \")\n",
        "# df_session_start.Level__ID.unique()"
      ],
      "execution_count": 11,
      "outputs": [
        {
          "output_type": "stream",
          "text": [
            "Count of Unique Users:  233\n"
          ],
          "name": "stdout"
        }
      ]
    },
    {
      "cell_type": "code",
      "metadata": {
        "id": "x6NhyxlwGiEG",
        "colab_type": "code",
        "colab": {}
      },
      "source": [
        ""
      ],
      "execution_count": 0,
      "outputs": []
    },
    {
      "cell_type": "markdown",
      "metadata": {
        "id": "xMQXvRUaKLMM",
        "colab_type": "text"
      },
      "source": [
        "#### 1. User Retention: Session Start"
      ]
    },
    {
      "cell_type": "code",
      "metadata": {
        "id": "6Z4BTyvJK3tE",
        "colab_type": "code",
        "colab": {
          "base_uri": "https://localhost:8080/",
          "height": 204
        },
        "outputId": "e2a57bfb-e318-40af-ccad-7ed2580eb89b"
      },
      "source": [
        "df_session_start.head()"
      ],
      "execution_count": 12,
      "outputs": [
        {
          "output_type": "execute_result",
          "data": {
            "text/html": [
              "<div>\n",
              "<style scoped>\n",
              "    .dataframe tbody tr th:only-of-type {\n",
              "        vertical-align: middle;\n",
              "    }\n",
              "\n",
              "    .dataframe tbody tr th {\n",
              "        vertical-align: top;\n",
              "    }\n",
              "\n",
              "    .dataframe thead th {\n",
              "        text-align: right;\n",
              "    }\n",
              "</style>\n",
              "<table border=\"1\" class=\"dataframe\">\n",
              "  <thead>\n",
              "    <tr style=\"text-align: right;\">\n",
              "      <th></th>\n",
              "      <th>user_id</th>\n",
              "      <th>event_date</th>\n",
              "      <th>event_time</th>\n",
              "      <th>device_name</th>\n",
              "      <th>session_nb</th>\n",
              "      <th>user_country</th>\n",
              "    </tr>\n",
              "  </thead>\n",
              "  <tbody>\n",
              "    <tr>\n",
              "      <th>0</th>\n",
              "      <td>FEAE206C-02E5-4610-B2A5-0EC5CBC73BBD</td>\n",
              "      <td>2015-10-14</td>\n",
              "      <td>2015-10-14 10:00:09</td>\n",
              "      <td>iPadAir</td>\n",
              "      <td>9</td>\n",
              "      <td>IN</td>\n",
              "    </tr>\n",
              "    <tr>\n",
              "      <th>1</th>\n",
              "      <td>FEAE206C-02E5-4610-B2A5-0EC5CBC73BBD</td>\n",
              "      <td>2015-10-14</td>\n",
              "      <td>2015-10-14 09:56:46</td>\n",
              "      <td>iPadAir</td>\n",
              "      <td>9</td>\n",
              "      <td>IN</td>\n",
              "    </tr>\n",
              "    <tr>\n",
              "      <th>2</th>\n",
              "      <td>DC155AB7-3728-4E8D-A933-1BD7A0BC993A</td>\n",
              "      <td>2015-10-14</td>\n",
              "      <td>2015-10-14 09:23:21</td>\n",
              "      <td>iPhone6</td>\n",
              "      <td>3</td>\n",
              "      <td>CN</td>\n",
              "    </tr>\n",
              "    <tr>\n",
              "      <th>3</th>\n",
              "      <td>C47A6FCE-6C76-41FE-9A6A-173AC7F01315</td>\n",
              "      <td>2015-10-14</td>\n",
              "      <td>2015-10-14 09:21:32</td>\n",
              "      <td>iPod5</td>\n",
              "      <td>3</td>\n",
              "      <td>IN</td>\n",
              "    </tr>\n",
              "    <tr>\n",
              "      <th>4</th>\n",
              "      <td>6BED1A04-43A3-431D-B908-5CD3E3843B5C</td>\n",
              "      <td>2015-10-14</td>\n",
              "      <td>2015-10-14 08:57:33</td>\n",
              "      <td>iPhone6+</td>\n",
              "      <td>3</td>\n",
              "      <td>IN</td>\n",
              "    </tr>\n",
              "  </tbody>\n",
              "</table>\n",
              "</div>"
            ],
            "text/plain": [
              "                                user_id event_date  ... session_nb user_country\n",
              "0  FEAE206C-02E5-4610-B2A5-0EC5CBC73BBD 2015-10-14  ...          9           IN\n",
              "1  FEAE206C-02E5-4610-B2A5-0EC5CBC73BBD 2015-10-14  ...          9           IN\n",
              "2  DC155AB7-3728-4E8D-A933-1BD7A0BC993A 2015-10-14  ...          3           CN\n",
              "3  C47A6FCE-6C76-41FE-9A6A-173AC7F01315 2015-10-14  ...          3           IN\n",
              "4  6BED1A04-43A3-431D-B908-5CD3E3843B5C 2015-10-14  ...          3           IN\n",
              "\n",
              "[5 rows x 6 columns]"
            ]
          },
          "metadata": {
            "tags": []
          },
          "execution_count": 12
        }
      ]
    },
    {
      "cell_type": "code",
      "metadata": {
        "id": "1FQwVvjKKU04",
        "colab_type": "code",
        "colab": {
          "base_uri": "https://localhost:8080/",
          "height": 68
        },
        "outputId": "58f11ec8-fc33-4d7b-f8a0-100c2919b9f4"
      },
      "source": [
        "print(\"Count of Unique Users: \",df_session_start.user_id.nunique() )\n",
        "print(\"Count of Unique Sessions: \",df_session_start.session_nb.nunique() )\n",
        "print(\"Count of Unique Dates: \",df_session_start.event_date.nunique())"
      ],
      "execution_count": 13,
      "outputs": [
        {
          "output_type": "stream",
          "text": [
            "Count of Unique Users:  233\n",
            "Count of Unique Sessions:  400\n",
            "Count of Unique Dates:  266\n"
          ],
          "name": "stdout"
        }
      ]
    },
    {
      "cell_type": "code",
      "metadata": {
        "id": "tIYiuxCmLCGR",
        "colab_type": "code",
        "colab": {
          "base_uri": "https://localhost:8080/",
          "height": 34
        },
        "outputId": "4e399879-96e3-42b4-9e58-35cb65009d39"
      },
      "source": [
        "print('Min:{}; Max:{}'.format(min(df_session_start.event_date),max(df_session_start.event_date)))"
      ],
      "execution_count": 14,
      "outputs": [
        {
          "output_type": "stream",
          "text": [
            "Min:2015-09-22 00:00:00; Max:2016-06-21 00:00:00\n"
          ],
          "name": "stdout"
        }
      ]
    },
    {
      "cell_type": "code",
      "metadata": {
        "id": "FzTp7tEILTrO",
        "colab_type": "code",
        "colab": {}
      },
      "source": [
        "day1 = '2015-09-22'"
      ],
      "execution_count": 0,
      "outputs": []
    },
    {
      "cell_type": "code",
      "metadata": {
        "id": "bBOE_DlKLprq",
        "colab_type": "code",
        "colab": {
          "base_uri": "https://localhost:8080/",
          "height": 136
        },
        "outputId": "2ea8bf1c-2f18-4fc7-9d3a-82e239666e1e"
      },
      "source": [
        "day1_acquired = df_session_start[(df_session_start.event_date==day1) & (df_session_start.session_nb==1)]\n",
        "day1_acquired.nunique()"
      ],
      "execution_count": 16,
      "outputs": [
        {
          "output_type": "execute_result",
          "data": {
            "text/plain": [
              "user_id          4\n",
              "event_date       1\n",
              "event_time      38\n",
              "device_name      4\n",
              "session_nb       1\n",
              "user_country     1\n",
              "dtype: int64"
            ]
          },
          "metadata": {
            "tags": []
          },
          "execution_count": 16
        }
      ]
    },
    {
      "cell_type": "code",
      "metadata": {
        "id": "j1V6gIuJkavO",
        "colab_type": "code",
        "colab": {
          "base_uri": "https://localhost:8080/",
          "height": 34
        },
        "outputId": "fdab4671-fd1f-4b5d-a816-6c5efcf12b0f"
      },
      "source": [
        "day1_retained=df_session_start[(df_session_start.event_date==day1) & (df_session_start.session_nb>1) & (df_session_start.user_id.isin(day1_acquired.user_id)) ]\n",
        "day1_retained.user_id.nunique()"
      ],
      "execution_count": 17,
      "outputs": [
        {
          "output_type": "execute_result",
          "data": {
            "text/plain": [
              "2"
            ]
          },
          "metadata": {
            "tags": []
          },
          "execution_count": 17
        }
      ]
    },
    {
      "cell_type": "code",
      "metadata": {
        "id": "bKIxfH7gmkIW",
        "colab_type": "code",
        "colab": {
          "base_uri": "https://localhost:8080/",
          "height": 34
        },
        "outputId": "4ab52efa-5318-44e3-a68f-d0a80103beab"
      },
      "source": [
        "(day1_acquired.user_id.nunique()), (day1_retained.user_id.nunique())"
      ],
      "execution_count": 18,
      "outputs": [
        {
          "output_type": "execute_result",
          "data": {
            "text/plain": [
              "(4, 2)"
            ]
          },
          "metadata": {
            "tags": []
          },
          "execution_count": 18
        }
      ]
    },
    {
      "cell_type": "code",
      "metadata": {
        "id": "vanWxj5dm2uh",
        "colab_type": "code",
        "colab": {}
      },
      "source": [
        "# df_session_start[df_session_start.user_id.isin(day1_acquired.user_id)]"
      ],
      "execution_count": 0,
      "outputs": []
    },
    {
      "cell_type": "markdown",
      "metadata": {
        "id": "_ImCo_3joVuH",
        "colab_type": "text"
      },
      "source": [
        "Percentage of Users Retained  on Day 1:"
      ]
    },
    {
      "cell_type": "code",
      "metadata": {
        "id": "5rC1kNXVnPLX",
        "colab_type": "code",
        "colab": {
          "base_uri": "https://localhost:8080/",
          "height": 34
        },
        "outputId": "9368500c-513b-4593-e410-d720e8e6675e"
      },
      "source": [
        "(day1_retained.user_id.nunique())/(day1_acquired.user_id.nunique())*100"
      ],
      "execution_count": 20,
      "outputs": [
        {
          "output_type": "execute_result",
          "data": {
            "text/plain": [
              "50.0"
            ]
          },
          "metadata": {
            "tags": []
          },
          "execution_count": 20
        }
      ]
    },
    {
      "cell_type": "markdown",
      "metadata": {
        "id": "V1rNEFQ5oqVd",
        "colab_type": "text"
      },
      "source": [
        "Now we will write a function to calculate and return Percentages of Customers Retained for any day"
      ]
    },
    {
      "cell_type": "code",
      "metadata": {
        "id": "xmHlUMKlogjd",
        "colab_type": "code",
        "colab": {}
      },
      "source": [
        "def customers_retained_percent(date):\n",
        "  customers_acquired = df_session_start[(df_session_start.event_date==date) & (df_session_start.session_nb==1)]\n",
        "  customers_retained = df_session_start[(df_session_start.event_date==date) & (df_session_start.session_nb>1) & (df_session_start.user_id.isin(customers_acquired.user_id)) ]\n",
        "  return (customers_retained .user_id.nunique())/(customers_acquired.user_id.nunique())*100"
      ],
      "execution_count": 0,
      "outputs": []
    },
    {
      "cell_type": "code",
      "metadata": {
        "id": "9q_eiY3dqoX4",
        "colab_type": "code",
        "colab": {
          "base_uri": "https://localhost:8080/",
          "height": 34
        },
        "outputId": "cd4d69fa-ff7c-4bec-9a76-aff90780013b"
      },
      "source": [
        "date = '2015-09-22'\n",
        "print(customers_retained_percent(date))"
      ],
      "execution_count": 22,
      "outputs": [
        {
          "output_type": "stream",
          "text": [
            "50.0\n"
          ],
          "name": "stdout"
        }
      ]
    },
    {
      "cell_type": "code",
      "metadata": {
        "id": "TFCIeD_Jqzrj",
        "colab_type": "code",
        "colab": {
          "base_uri": "https://localhost:8080/",
          "height": 34
        },
        "outputId": "c2202100-3d3e-4d5b-a5b9-33240da5324f"
      },
      "source": [
        "day1 = '2015-09-22'\n",
        "day3 = '2015-09-24'\n",
        "day7 = '2015-09-28'\n",
        "day15= '2015-10-06'\n",
        "day30= '2015-10-21'\n",
        "\n",
        "\n",
        "list_of_days = [day1, day3, day7, day15, day30]\n",
        "\n",
        "retained_percent = []\n",
        "for date in list_of_days:\n",
        "    percent = customers_retained_percent(date)\n",
        "    retained_percent.append(percent)\n",
        "\n",
        "\n",
        "print(retained_percent)"
      ],
      "execution_count": 23,
      "outputs": [
        {
          "output_type": "stream",
          "text": [
            "[50.0, 60.0, 66.66666666666666, 60.0, 100.0]\n"
          ],
          "name": "stdout"
        }
      ]
    },
    {
      "cell_type": "markdown",
      "metadata": {
        "id": "q6GJv9XE6JjG",
        "colab_type": "text"
      },
      "source": [
        "#### What percentage of users make first time purchases between levels 1 to 7? (Refer to Spenders tab)\n"
      ]
    },
    {
      "cell_type": "code",
      "metadata": {
        "id": "VGB5ewH8sKDt",
        "colab_type": "code",
        "colab": {
          "base_uri": "https://localhost:8080/",
          "height": 204
        },
        "outputId": "425bfdcc-5d4b-4c9a-8d92-c697110e2920"
      },
      "source": [
        "df_spenders.head()"
      ],
      "execution_count": 24,
      "outputs": [
        {
          "output_type": "execute_result",
          "data": {
            "text/html": [
              "<div>\n",
              "<style scoped>\n",
              "    .dataframe tbody tr th:only-of-type {\n",
              "        vertical-align: middle;\n",
              "    }\n",
              "\n",
              "    .dataframe tbody tr th {\n",
              "        vertical-align: top;\n",
              "    }\n",
              "\n",
              "    .dataframe thead th {\n",
              "        text-align: right;\n",
              "    }\n",
              "</style>\n",
              "<table border=\"1\" class=\"dataframe\">\n",
              "  <thead>\n",
              "    <tr style=\"text-align: right;\">\n",
              "      <th></th>\n",
              "      <th>user_id</th>\n",
              "      <th>event_date</th>\n",
              "      <th>event_time</th>\n",
              "      <th>Level</th>\n",
              "      <th>session_nb</th>\n",
              "      <th>Pack Name</th>\n",
              "      <th>money Spent</th>\n",
              "      <th>money_currency</th>\n",
              "    </tr>\n",
              "  </thead>\n",
              "  <tbody>\n",
              "    <tr>\n",
              "      <th>0</th>\n",
              "      <td>8BF191CF-567A-4977-B2C9-90EC756EFD41</td>\n",
              "      <td>2015-10-01</td>\n",
              "      <td>2015-10-01 05:07:43</td>\n",
              "      <td>3</td>\n",
              "      <td>1</td>\n",
              "      <td>Shop 5750 Tokens</td>\n",
              "      <td>99.989998</td>\n",
              "      <td>EUR</td>\n",
              "    </tr>\n",
              "    <tr>\n",
              "      <th>1</th>\n",
              "      <td>936BAA84-CDE9-4C8F-A949-5E2CB077A9CE</td>\n",
              "      <td>2015-09-28</td>\n",
              "      <td>2015-09-28 06:22:52</td>\n",
              "      <td>1</td>\n",
              "      <td>1</td>\n",
              "      <td>Shop 17500 Orbs</td>\n",
              "      <td>1.990000</td>\n",
              "      <td>EUR</td>\n",
              "    </tr>\n",
              "    <tr>\n",
              "      <th>2</th>\n",
              "      <td>52807659-0332-486C-99E4-84429A1830F3</td>\n",
              "      <td>2015-09-22</td>\n",
              "      <td>2015-09-22 10:54:39</td>\n",
              "      <td>14</td>\n",
              "      <td>1</td>\n",
              "      <td>Shop 490000 Orbs</td>\n",
              "      <td>49.990002</td>\n",
              "      <td>EUR</td>\n",
              "    </tr>\n",
              "    <tr>\n",
              "      <th>3</th>\n",
              "      <td>1CE1D120-D2FA-4DAF-80D2-9C5BBDCFB9A5</td>\n",
              "      <td>2015-10-17</td>\n",
              "      <td>2015-10-17 11:25:49</td>\n",
              "      <td>23</td>\n",
              "      <td>5</td>\n",
              "      <td>Shop 510 Tokens</td>\n",
              "      <td>9.990000</td>\n",
              "      <td>EUR</td>\n",
              "    </tr>\n",
              "    <tr>\n",
              "      <th>4</th>\n",
              "      <td>1CE1D120-D2FA-4DAF-80D2-9C5BBDCFB9A5</td>\n",
              "      <td>2015-10-17</td>\n",
              "      <td>2015-10-17 11:23:50</td>\n",
              "      <td>23</td>\n",
              "      <td>5</td>\n",
              "      <td>Shop 100 Tokens</td>\n",
              "      <td>1.990000</td>\n",
              "      <td>EUR</td>\n",
              "    </tr>\n",
              "  </tbody>\n",
              "</table>\n",
              "</div>"
            ],
            "text/plain": [
              "                                user_id event_date  ... money Spent  money_currency\n",
              "0  8BF191CF-567A-4977-B2C9-90EC756EFD41 2015-10-01  ...   99.989998             EUR\n",
              "1  936BAA84-CDE9-4C8F-A949-5E2CB077A9CE 2015-09-28  ...    1.990000             EUR\n",
              "2  52807659-0332-486C-99E4-84429A1830F3 2015-09-22  ...   49.990002             EUR\n",
              "3  1CE1D120-D2FA-4DAF-80D2-9C5BBDCFB9A5 2015-10-17  ...    9.990000             EUR\n",
              "4  1CE1D120-D2FA-4DAF-80D2-9C5BBDCFB9A5 2015-10-17  ...    1.990000             EUR\n",
              "\n",
              "[5 rows x 8 columns]"
            ]
          },
          "metadata": {
            "tags": []
          },
          "execution_count": 24
        }
      ]
    },
    {
      "cell_type": "code",
      "metadata": {
        "id": "UH1JcI616ev_",
        "colab_type": "code",
        "colab": {
          "base_uri": "https://localhost:8080/",
          "height": 204
        },
        "outputId": "93d7029b-f1bd-41d4-fa41-cc3eb66fb3a4"
      },
      "source": [
        "df_1st_purch_1_to_7 = df_spenders[(df_spenders.session_nb==1) & (df_spenders.Level.isin([1,2,3,4,5,6,7]))]\n",
        "df_1st_purch_1_to_7.head()\n"
      ],
      "execution_count": 25,
      "outputs": [
        {
          "output_type": "execute_result",
          "data": {
            "text/html": [
              "<div>\n",
              "<style scoped>\n",
              "    .dataframe tbody tr th:only-of-type {\n",
              "        vertical-align: middle;\n",
              "    }\n",
              "\n",
              "    .dataframe tbody tr th {\n",
              "        vertical-align: top;\n",
              "    }\n",
              "\n",
              "    .dataframe thead th {\n",
              "        text-align: right;\n",
              "    }\n",
              "</style>\n",
              "<table border=\"1\" class=\"dataframe\">\n",
              "  <thead>\n",
              "    <tr style=\"text-align: right;\">\n",
              "      <th></th>\n",
              "      <th>user_id</th>\n",
              "      <th>event_date</th>\n",
              "      <th>event_time</th>\n",
              "      <th>Level</th>\n",
              "      <th>session_nb</th>\n",
              "      <th>Pack Name</th>\n",
              "      <th>money Spent</th>\n",
              "      <th>money_currency</th>\n",
              "    </tr>\n",
              "  </thead>\n",
              "  <tbody>\n",
              "    <tr>\n",
              "      <th>0</th>\n",
              "      <td>8BF191CF-567A-4977-B2C9-90EC756EFD41</td>\n",
              "      <td>2015-10-01</td>\n",
              "      <td>2015-10-01 05:07:43</td>\n",
              "      <td>3</td>\n",
              "      <td>1</td>\n",
              "      <td>Shop 5750 Tokens</td>\n",
              "      <td>99.989998</td>\n",
              "      <td>EUR</td>\n",
              "    </tr>\n",
              "    <tr>\n",
              "      <th>1</th>\n",
              "      <td>936BAA84-CDE9-4C8F-A949-5E2CB077A9CE</td>\n",
              "      <td>2015-09-28</td>\n",
              "      <td>2015-09-28 06:22:52</td>\n",
              "      <td>1</td>\n",
              "      <td>1</td>\n",
              "      <td>Shop 17500 Orbs</td>\n",
              "      <td>1.990000</td>\n",
              "      <td>EUR</td>\n",
              "    </tr>\n",
              "    <tr>\n",
              "      <th>8</th>\n",
              "      <td>1CE1D120-D2FA-4DAF-80D2-9C5BBDCFB9A5</td>\n",
              "      <td>2015-10-17</td>\n",
              "      <td>2015-10-17 04:40:30</td>\n",
              "      <td>1</td>\n",
              "      <td>1</td>\n",
              "      <td>Shop 510 Tokens</td>\n",
              "      <td>9.990000</td>\n",
              "      <td>EUR</td>\n",
              "    </tr>\n",
              "    <tr>\n",
              "      <th>9</th>\n",
              "      <td>936BAA84-CDE9-4C8F-A949-5E2CB077A9CE</td>\n",
              "      <td>2015-10-18</td>\n",
              "      <td>2015-10-18 11:24:08</td>\n",
              "      <td>2</td>\n",
              "      <td>1</td>\n",
              "      <td>Shop 250 Tokens</td>\n",
              "      <td>64.989998</td>\n",
              "      <td>NZD</td>\n",
              "    </tr>\n",
              "    <tr>\n",
              "      <th>12</th>\n",
              "      <td>6BED1A04-43A3-431D-B908-5CD3E3843B5C</td>\n",
              "      <td>2015-11-05</td>\n",
              "      <td>2015-11-05 14:37:28</td>\n",
              "      <td>2</td>\n",
              "      <td>1</td>\n",
              "      <td>Shop 192500 Orbs</td>\n",
              "      <td>19.990000</td>\n",
              "      <td>EUR</td>\n",
              "    </tr>\n",
              "  </tbody>\n",
              "</table>\n",
              "</div>"
            ],
            "text/plain": [
              "                                 user_id event_date  ... money Spent  money_currency\n",
              "0   8BF191CF-567A-4977-B2C9-90EC756EFD41 2015-10-01  ...   99.989998             EUR\n",
              "1   936BAA84-CDE9-4C8F-A949-5E2CB077A9CE 2015-09-28  ...    1.990000             EUR\n",
              "8   1CE1D120-D2FA-4DAF-80D2-9C5BBDCFB9A5 2015-10-17  ...    9.990000             EUR\n",
              "9   936BAA84-CDE9-4C8F-A949-5E2CB077A9CE 2015-10-18  ...   64.989998             NZD\n",
              "12  6BED1A04-43A3-431D-B908-5CD3E3843B5C 2015-11-05  ...   19.990000             EUR\n",
              "\n",
              "[5 rows x 8 columns]"
            ]
          },
          "metadata": {
            "tags": []
          },
          "execution_count": 25
        }
      ]
    },
    {
      "cell_type": "code",
      "metadata": {
        "id": "4WkhvWh76y9b",
        "colab_type": "code",
        "colab": {
          "base_uri": "https://localhost:8080/",
          "height": 34
        },
        "outputId": "3b481b56-4c82-4a2e-f924-6fd6545fa129"
      },
      "source": [
        "df_1st_purch_1_to_7.user_id.nunique(), df_spenders.user_id.nunique()"
      ],
      "execution_count": 26,
      "outputs": [
        {
          "output_type": "execute_result",
          "data": {
            "text/plain": [
              "(61, 233)"
            ]
          },
          "metadata": {
            "tags": []
          },
          "execution_count": 26
        }
      ]
    },
    {
      "cell_type": "code",
      "metadata": {
        "id": "yjLIAXWW7-Bg",
        "colab_type": "code",
        "colab": {
          "base_uri": "https://localhost:8080/",
          "height": 34
        },
        "outputId": "29ec43ae-a4a3-465b-c66e-ddf5d38da4f3"
      },
      "source": [
        "percent = df_1st_purch_1_to_7.user_id.nunique()/ df_spenders.user_id.nunique()*100\n",
        "print(\"Percentage of users make first time purchases between levels 1 to 7: \", round(percent,2), \"%\")"
      ],
      "execution_count": 27,
      "outputs": [
        {
          "output_type": "stream",
          "text": [
            "Percentage of users make first time purchases between levels 1 to 7:  26.18 %\n"
          ],
          "name": "stdout"
        }
      ]
    },
    {
      "cell_type": "code",
      "metadata": {
        "id": "lhyOiRO28Oai",
        "colab_type": "code",
        "colab": {}
      },
      "source": [
        ""
      ],
      "execution_count": 0,
      "outputs": []
    },
    {
      "cell_type": "markdown",
      "metadata": {
        "id": "dMxS9Nb_8rHy",
        "colab_type": "text"
      },
      "source": [
        "#### What percentage of users make a repeat purchase? \n",
        "#### At what level maximum repeat purchases happen?"
      ]
    },
    {
      "cell_type": "code",
      "metadata": {
        "id": "CkNgcoA6-ZO_",
        "colab_type": "code",
        "colab": {
          "base_uri": "https://localhost:8080/",
          "height": 34
        },
        "outputId": "30be4805-159b-4aa2-80db-702a8b1a1e45"
      },
      "source": [
        "df_spenders.user_id.nunique()"
      ],
      "execution_count": 28,
      "outputs": [
        {
          "output_type": "execute_result",
          "data": {
            "text/plain": [
              "233"
            ]
          },
          "metadata": {
            "tags": []
          },
          "execution_count": 28
        }
      ]
    },
    {
      "cell_type": "code",
      "metadata": {
        "id": "JXzlugD68yFH",
        "colab_type": "code",
        "colab": {
          "base_uri": "https://localhost:8080/",
          "height": 235
        },
        "outputId": "b46670c3-78ef-4fb0-c09e-952b9c5f181e"
      },
      "source": [
        "groupby_users= df_spenders.groupby(by = 'user_id').count()\n",
        "groupby_users.head()"
      ],
      "execution_count": 29,
      "outputs": [
        {
          "output_type": "execute_result",
          "data": {
            "text/html": [
              "<div>\n",
              "<style scoped>\n",
              "    .dataframe tbody tr th:only-of-type {\n",
              "        vertical-align: middle;\n",
              "    }\n",
              "\n",
              "    .dataframe tbody tr th {\n",
              "        vertical-align: top;\n",
              "    }\n",
              "\n",
              "    .dataframe thead th {\n",
              "        text-align: right;\n",
              "    }\n",
              "</style>\n",
              "<table border=\"1\" class=\"dataframe\">\n",
              "  <thead>\n",
              "    <tr style=\"text-align: right;\">\n",
              "      <th></th>\n",
              "      <th>event_date</th>\n",
              "      <th>event_time</th>\n",
              "      <th>Level</th>\n",
              "      <th>session_nb</th>\n",
              "      <th>Pack Name</th>\n",
              "      <th>money Spent</th>\n",
              "      <th>money_currency</th>\n",
              "    </tr>\n",
              "    <tr>\n",
              "      <th>user_id</th>\n",
              "      <th></th>\n",
              "      <th></th>\n",
              "      <th></th>\n",
              "      <th></th>\n",
              "      <th></th>\n",
              "      <th></th>\n",
              "      <th></th>\n",
              "    </tr>\n",
              "  </thead>\n",
              "  <tbody>\n",
              "    <tr>\n",
              "      <th>011A3515-4A03-4350-9574-25346518A6A6</th>\n",
              "      <td>4</td>\n",
              "      <td>4</td>\n",
              "      <td>4</td>\n",
              "      <td>4</td>\n",
              "      <td>4</td>\n",
              "      <td>4</td>\n",
              "      <td>4</td>\n",
              "    </tr>\n",
              "    <tr>\n",
              "      <th>0325F505-2A21-44DA-8A2C-784E9192B241</th>\n",
              "      <td>22</td>\n",
              "      <td>22</td>\n",
              "      <td>22</td>\n",
              "      <td>22</td>\n",
              "      <td>22</td>\n",
              "      <td>22</td>\n",
              "      <td>22</td>\n",
              "    </tr>\n",
              "    <tr>\n",
              "      <th>0468B646-70AE-42B9-B0CB-57AA168A42CE</th>\n",
              "      <td>1</td>\n",
              "      <td>1</td>\n",
              "      <td>1</td>\n",
              "      <td>1</td>\n",
              "      <td>1</td>\n",
              "      <td>1</td>\n",
              "      <td>1</td>\n",
              "    </tr>\n",
              "    <tr>\n",
              "      <th>07F425F8-EF9C-46FD-8DF8-28682F27C197</th>\n",
              "      <td>2</td>\n",
              "      <td>2</td>\n",
              "      <td>2</td>\n",
              "      <td>2</td>\n",
              "      <td>2</td>\n",
              "      <td>2</td>\n",
              "      <td>2</td>\n",
              "    </tr>\n",
              "    <tr>\n",
              "      <th>0861668E-4028-4251-8AEB-B5B306A06041</th>\n",
              "      <td>1</td>\n",
              "      <td>1</td>\n",
              "      <td>1</td>\n",
              "      <td>1</td>\n",
              "      <td>1</td>\n",
              "      <td>1</td>\n",
              "      <td>1</td>\n",
              "    </tr>\n",
              "  </tbody>\n",
              "</table>\n",
              "</div>"
            ],
            "text/plain": [
              "                                      event_date  ...  money_currency\n",
              "user_id                                           ...                \n",
              "011A3515-4A03-4350-9574-25346518A6A6           4  ...               4\n",
              "0325F505-2A21-44DA-8A2C-784E9192B241          22  ...              22\n",
              "0468B646-70AE-42B9-B0CB-57AA168A42CE           1  ...               1\n",
              "07F425F8-EF9C-46FD-8DF8-28682F27C197           2  ...               2\n",
              "0861668E-4028-4251-8AEB-B5B306A06041           1  ...               1\n",
              "\n",
              "[5 rows x 7 columns]"
            ]
          },
          "metadata": {
            "tags": []
          },
          "execution_count": 29
        }
      ]
    },
    {
      "cell_type": "code",
      "metadata": {
        "id": "fzSSpc3B-S3_",
        "colab_type": "code",
        "colab": {
          "base_uri": "https://localhost:8080/",
          "height": 34
        },
        "outputId": "e63a5e2d-c962-48ef-c0e8-ed759058782c"
      },
      "source": [
        "len(groupby_users[groupby_users.event_date>1])"
      ],
      "execution_count": 30,
      "outputs": [
        {
          "output_type": "execute_result",
          "data": {
            "text/plain": [
              "149"
            ]
          },
          "metadata": {
            "tags": []
          },
          "execution_count": 30
        }
      ]
    },
    {
      "cell_type": "code",
      "metadata": {
        "id": "BRTdpf74_FXs",
        "colab_type": "code",
        "colab": {
          "base_uri": "https://localhost:8080/",
          "height": 34
        },
        "outputId": "9395c22d-e7ac-4b2d-9df3-3b61fb8be355"
      },
      "source": [
        "len(groupby_users[groupby_users.event_date>1]),df_spenders.user_id.nunique()"
      ],
      "execution_count": 31,
      "outputs": [
        {
          "output_type": "execute_result",
          "data": {
            "text/plain": [
              "(149, 233)"
            ]
          },
          "metadata": {
            "tags": []
          },
          "execution_count": 31
        }
      ]
    },
    {
      "cell_type": "code",
      "metadata": {
        "id": "Bllvr9yw_f3k",
        "colab_type": "code",
        "colab": {
          "base_uri": "https://localhost:8080/",
          "height": 34
        },
        "outputId": "c8be7f74-3819-43d3-8024-089de328c359"
      },
      "source": [
        "percent = len(groupby_users[groupby_users.event_date>1]) / df_spenders.user_id.nunique()*100\n",
        "print(\"Percentage of users making a repeat purchase: \", round(percent,2), \"%\")"
      ],
      "execution_count": 32,
      "outputs": [
        {
          "output_type": "stream",
          "text": [
            "Percentage of users making a repeat purchase:  63.95 %\n"
          ],
          "name": "stdout"
        }
      ]
    },
    {
      "cell_type": "code",
      "metadata": {
        "id": "NR2Vs-Fz_y8R",
        "colab_type": "code",
        "colab": {
          "base_uri": "https://localhost:8080/",
          "height": 235
        },
        "outputId": "199eb2e1-a7c0-4133-cf62-57a93fdb8cba"
      },
      "source": [
        "repeat_purchase_level = df_spenders.groupby(by = ['Level']).count().sort_values(by = 'user_id', ascending = False)\n",
        "repeat_purchase_level.head()"
      ],
      "execution_count": 33,
      "outputs": [
        {
          "output_type": "execute_result",
          "data": {
            "text/html": [
              "<div>\n",
              "<style scoped>\n",
              "    .dataframe tbody tr th:only-of-type {\n",
              "        vertical-align: middle;\n",
              "    }\n",
              "\n",
              "    .dataframe tbody tr th {\n",
              "        vertical-align: top;\n",
              "    }\n",
              "\n",
              "    .dataframe thead th {\n",
              "        text-align: right;\n",
              "    }\n",
              "</style>\n",
              "<table border=\"1\" class=\"dataframe\">\n",
              "  <thead>\n",
              "    <tr style=\"text-align: right;\">\n",
              "      <th></th>\n",
              "      <th>user_id</th>\n",
              "      <th>event_date</th>\n",
              "      <th>event_time</th>\n",
              "      <th>session_nb</th>\n",
              "      <th>Pack Name</th>\n",
              "      <th>money Spent</th>\n",
              "      <th>money_currency</th>\n",
              "    </tr>\n",
              "    <tr>\n",
              "      <th>Level</th>\n",
              "      <th></th>\n",
              "      <th></th>\n",
              "      <th></th>\n",
              "      <th></th>\n",
              "      <th></th>\n",
              "      <th></th>\n",
              "      <th></th>\n",
              "    </tr>\n",
              "  </thead>\n",
              "  <tbody>\n",
              "    <tr>\n",
              "      <th>1</th>\n",
              "      <td>271</td>\n",
              "      <td>271</td>\n",
              "      <td>271</td>\n",
              "      <td>271</td>\n",
              "      <td>271</td>\n",
              "      <td>271</td>\n",
              "      <td>271</td>\n",
              "    </tr>\n",
              "    <tr>\n",
              "      <th>2</th>\n",
              "      <td>192</td>\n",
              "      <td>192</td>\n",
              "      <td>192</td>\n",
              "      <td>192</td>\n",
              "      <td>192</td>\n",
              "      <td>192</td>\n",
              "      <td>192</td>\n",
              "    </tr>\n",
              "    <tr>\n",
              "      <th>10</th>\n",
              "      <td>155</td>\n",
              "      <td>155</td>\n",
              "      <td>155</td>\n",
              "      <td>155</td>\n",
              "      <td>155</td>\n",
              "      <td>155</td>\n",
              "      <td>155</td>\n",
              "    </tr>\n",
              "    <tr>\n",
              "      <th>0</th>\n",
              "      <td>145</td>\n",
              "      <td>145</td>\n",
              "      <td>145</td>\n",
              "      <td>145</td>\n",
              "      <td>145</td>\n",
              "      <td>145</td>\n",
              "      <td>145</td>\n",
              "    </tr>\n",
              "    <tr>\n",
              "      <th>3</th>\n",
              "      <td>144</td>\n",
              "      <td>144</td>\n",
              "      <td>144</td>\n",
              "      <td>144</td>\n",
              "      <td>144</td>\n",
              "      <td>144</td>\n",
              "      <td>144</td>\n",
              "    </tr>\n",
              "  </tbody>\n",
              "</table>\n",
              "</div>"
            ],
            "text/plain": [
              "       user_id  event_date  event_time  ...  Pack Name  money Spent  money_currency\n",
              "Level                                   ...                                        \n",
              "1          271         271         271  ...        271          271             271\n",
              "2          192         192         192  ...        192          192             192\n",
              "10         155         155         155  ...        155          155             155\n",
              "0          145         145         145  ...        145          145             145\n",
              "3          144         144         144  ...        144          144             144\n",
              "\n",
              "[5 rows x 7 columns]"
            ]
          },
          "metadata": {
            "tags": []
          },
          "execution_count": 33
        }
      ]
    },
    {
      "cell_type": "code",
      "metadata": {
        "id": "22hk7AKrAano",
        "colab_type": "code",
        "colab": {
          "base_uri": "https://localhost:8080/",
          "height": 34
        },
        "outputId": "ada51c69-c51a-43f5-8687-51bdfc14602e"
      },
      "source": [
        "print(\"Top 5 levels with maximum repeat purchases are:\", repeat_purchase_level.index[:5].values)"
      ],
      "execution_count": 34,
      "outputs": [
        {
          "output_type": "stream",
          "text": [
            "Top 5 levels with maximum repeat purchases are: [ 1  2 10  0  3]\n"
          ],
          "name": "stdout"
        }
      ]
    },
    {
      "cell_type": "code",
      "metadata": {
        "id": "lcn8yJ4iDSs4",
        "colab_type": "code",
        "colab": {}
      },
      "source": [
        ""
      ],
      "execution_count": 0,
      "outputs": []
    },
    {
      "cell_type": "markdown",
      "metadata": {
        "id": "1KrGBxOCESdV",
        "colab_type": "text"
      },
      "source": [
        "#### Which packs generate the maximum revenue? (Refer to Spenders tab)"
      ]
    },
    {
      "cell_type": "code",
      "metadata": {
        "id": "-nYvhEXVEjv9",
        "colab_type": "code",
        "colab": {
          "base_uri": "https://localhost:8080/",
          "height": 51
        },
        "outputId": "37c83d21-49ba-47dc-e4d5-7eb15c518fe2"
      },
      "source": [
        "df_spenders.money_currency.unique()"
      ],
      "execution_count": 35,
      "outputs": [
        {
          "output_type": "execute_result",
          "data": {
            "text/plain": [
              "array(['EUR', 'NZD', 'AUD', 'USD', 'GBP', 'INR', 'CAD', 'RUB', '$ AUD'],\n",
              "      dtype=object)"
            ]
          },
          "metadata": {
            "tags": []
          },
          "execution_count": 35
        }
      ]
    },
    {
      "cell_type": "code",
      "metadata": {
        "id": "IbHMvFV1FIG4",
        "colab_type": "code",
        "colab": {}
      },
      "source": [
        "dict_curr_to_INR = {\"EUR\": 78.75 , \"NZD\": 45.40,\"USD\" :70.55,\"AUD\": 48.75, \"GBP\": 91.24, \"INR\": 1 , \"CAD\": 53.82, \"RUB\": 1.11, '$ AUD': 48.75}"
      ],
      "execution_count": 0,
      "outputs": []
    },
    {
      "cell_type": "code",
      "metadata": {
        "id": "XWlvYUP_GYh_",
        "colab_type": "code",
        "colab": {
          "base_uri": "https://localhost:8080/",
          "height": 204
        },
        "outputId": "b792154d-1659-4099-b843-80ced6448856"
      },
      "source": [
        "df_spenders['INR_conv'] = df_spenders.money_currency.map(dict_curr_to_INR)\n",
        "df_spenders.head()"
      ],
      "execution_count": 37,
      "outputs": [
        {
          "output_type": "execute_result",
          "data": {
            "text/html": [
              "<div>\n",
              "<style scoped>\n",
              "    .dataframe tbody tr th:only-of-type {\n",
              "        vertical-align: middle;\n",
              "    }\n",
              "\n",
              "    .dataframe tbody tr th {\n",
              "        vertical-align: top;\n",
              "    }\n",
              "\n",
              "    .dataframe thead th {\n",
              "        text-align: right;\n",
              "    }\n",
              "</style>\n",
              "<table border=\"1\" class=\"dataframe\">\n",
              "  <thead>\n",
              "    <tr style=\"text-align: right;\">\n",
              "      <th></th>\n",
              "      <th>user_id</th>\n",
              "      <th>event_date</th>\n",
              "      <th>event_time</th>\n",
              "      <th>Level</th>\n",
              "      <th>session_nb</th>\n",
              "      <th>Pack Name</th>\n",
              "      <th>money Spent</th>\n",
              "      <th>money_currency</th>\n",
              "      <th>INR_conv</th>\n",
              "    </tr>\n",
              "  </thead>\n",
              "  <tbody>\n",
              "    <tr>\n",
              "      <th>0</th>\n",
              "      <td>8BF191CF-567A-4977-B2C9-90EC756EFD41</td>\n",
              "      <td>2015-10-01</td>\n",
              "      <td>2015-10-01 05:07:43</td>\n",
              "      <td>3</td>\n",
              "      <td>1</td>\n",
              "      <td>Shop 5750 Tokens</td>\n",
              "      <td>99.989998</td>\n",
              "      <td>EUR</td>\n",
              "      <td>78.75</td>\n",
              "    </tr>\n",
              "    <tr>\n",
              "      <th>1</th>\n",
              "      <td>936BAA84-CDE9-4C8F-A949-5E2CB077A9CE</td>\n",
              "      <td>2015-09-28</td>\n",
              "      <td>2015-09-28 06:22:52</td>\n",
              "      <td>1</td>\n",
              "      <td>1</td>\n",
              "      <td>Shop 17500 Orbs</td>\n",
              "      <td>1.990000</td>\n",
              "      <td>EUR</td>\n",
              "      <td>78.75</td>\n",
              "    </tr>\n",
              "    <tr>\n",
              "      <th>2</th>\n",
              "      <td>52807659-0332-486C-99E4-84429A1830F3</td>\n",
              "      <td>2015-09-22</td>\n",
              "      <td>2015-09-22 10:54:39</td>\n",
              "      <td>14</td>\n",
              "      <td>1</td>\n",
              "      <td>Shop 490000 Orbs</td>\n",
              "      <td>49.990002</td>\n",
              "      <td>EUR</td>\n",
              "      <td>78.75</td>\n",
              "    </tr>\n",
              "    <tr>\n",
              "      <th>3</th>\n",
              "      <td>1CE1D120-D2FA-4DAF-80D2-9C5BBDCFB9A5</td>\n",
              "      <td>2015-10-17</td>\n",
              "      <td>2015-10-17 11:25:49</td>\n",
              "      <td>23</td>\n",
              "      <td>5</td>\n",
              "      <td>Shop 510 Tokens</td>\n",
              "      <td>9.990000</td>\n",
              "      <td>EUR</td>\n",
              "      <td>78.75</td>\n",
              "    </tr>\n",
              "    <tr>\n",
              "      <th>4</th>\n",
              "      <td>1CE1D120-D2FA-4DAF-80D2-9C5BBDCFB9A5</td>\n",
              "      <td>2015-10-17</td>\n",
              "      <td>2015-10-17 11:23:50</td>\n",
              "      <td>23</td>\n",
              "      <td>5</td>\n",
              "      <td>Shop 100 Tokens</td>\n",
              "      <td>1.990000</td>\n",
              "      <td>EUR</td>\n",
              "      <td>78.75</td>\n",
              "    </tr>\n",
              "  </tbody>\n",
              "</table>\n",
              "</div>"
            ],
            "text/plain": [
              "                                user_id event_date  ... money_currency  INR_conv\n",
              "0  8BF191CF-567A-4977-B2C9-90EC756EFD41 2015-10-01  ...            EUR     78.75\n",
              "1  936BAA84-CDE9-4C8F-A949-5E2CB077A9CE 2015-09-28  ...            EUR     78.75\n",
              "2  52807659-0332-486C-99E4-84429A1830F3 2015-09-22  ...            EUR     78.75\n",
              "3  1CE1D120-D2FA-4DAF-80D2-9C5BBDCFB9A5 2015-10-17  ...            EUR     78.75\n",
              "4  1CE1D120-D2FA-4DAF-80D2-9C5BBDCFB9A5 2015-10-17  ...            EUR     78.75\n",
              "\n",
              "[5 rows x 9 columns]"
            ]
          },
          "metadata": {
            "tags": []
          },
          "execution_count": 37
        }
      ]
    },
    {
      "cell_type": "code",
      "metadata": {
        "id": "UnwT-h94G8-m",
        "colab_type": "code",
        "colab": {
          "base_uri": "https://localhost:8080/",
          "height": 170
        },
        "outputId": "799f4135-7c7d-47bd-a8b9-c78d2854cd20"
      },
      "source": [
        "df_spenders['INR_conv'].value_counts()"
      ],
      "execution_count": 38,
      "outputs": [
        {
          "output_type": "execute_result",
          "data": {
            "text/plain": [
              "78.75    1382\n",
              "48.75     253\n",
              "53.82     249\n",
              "45.40      44\n",
              "1.00       22\n",
              "91.24      21\n",
              "70.55       7\n",
              "1.11        3\n",
              "Name: INR_conv, dtype: int64"
            ]
          },
          "metadata": {
            "tags": []
          },
          "execution_count": 38
        }
      ]
    },
    {
      "cell_type": "code",
      "metadata": {
        "id": "ETfwVYb3HOV7",
        "colab_type": "code",
        "colab": {
          "base_uri": "https://localhost:8080/",
          "height": 187
        },
        "outputId": "605c6c23-299c-465b-fbb1-29699b567455"
      },
      "source": [
        "df_spenders['money_currency'].value_counts()"
      ],
      "execution_count": 39,
      "outputs": [
        {
          "output_type": "execute_result",
          "data": {
            "text/plain": [
              "EUR      1382\n",
              "AUD       252\n",
              "CAD       249\n",
              "NZD        44\n",
              "INR        22\n",
              "GBP        21\n",
              "USD         7\n",
              "RUB         3\n",
              "$ AUD       1\n",
              "Name: money_currency, dtype: int64"
            ]
          },
          "metadata": {
            "tags": []
          },
          "execution_count": 39
        }
      ]
    },
    {
      "cell_type": "code",
      "metadata": {
        "id": "4WT-As59Ha9d",
        "colab_type": "code",
        "colab": {
          "base_uri": "https://localhost:8080/",
          "height": 204
        },
        "outputId": "4fdb7642-471e-4c2b-fc64-7aab36a0d1b2"
      },
      "source": [
        "df_spenders.head()"
      ],
      "execution_count": 40,
      "outputs": [
        {
          "output_type": "execute_result",
          "data": {
            "text/html": [
              "<div>\n",
              "<style scoped>\n",
              "    .dataframe tbody tr th:only-of-type {\n",
              "        vertical-align: middle;\n",
              "    }\n",
              "\n",
              "    .dataframe tbody tr th {\n",
              "        vertical-align: top;\n",
              "    }\n",
              "\n",
              "    .dataframe thead th {\n",
              "        text-align: right;\n",
              "    }\n",
              "</style>\n",
              "<table border=\"1\" class=\"dataframe\">\n",
              "  <thead>\n",
              "    <tr style=\"text-align: right;\">\n",
              "      <th></th>\n",
              "      <th>user_id</th>\n",
              "      <th>event_date</th>\n",
              "      <th>event_time</th>\n",
              "      <th>Level</th>\n",
              "      <th>session_nb</th>\n",
              "      <th>Pack Name</th>\n",
              "      <th>money Spent</th>\n",
              "      <th>money_currency</th>\n",
              "      <th>INR_conv</th>\n",
              "    </tr>\n",
              "  </thead>\n",
              "  <tbody>\n",
              "    <tr>\n",
              "      <th>0</th>\n",
              "      <td>8BF191CF-567A-4977-B2C9-90EC756EFD41</td>\n",
              "      <td>2015-10-01</td>\n",
              "      <td>2015-10-01 05:07:43</td>\n",
              "      <td>3</td>\n",
              "      <td>1</td>\n",
              "      <td>Shop 5750 Tokens</td>\n",
              "      <td>99.989998</td>\n",
              "      <td>EUR</td>\n",
              "      <td>78.75</td>\n",
              "    </tr>\n",
              "    <tr>\n",
              "      <th>1</th>\n",
              "      <td>936BAA84-CDE9-4C8F-A949-5E2CB077A9CE</td>\n",
              "      <td>2015-09-28</td>\n",
              "      <td>2015-09-28 06:22:52</td>\n",
              "      <td>1</td>\n",
              "      <td>1</td>\n",
              "      <td>Shop 17500 Orbs</td>\n",
              "      <td>1.990000</td>\n",
              "      <td>EUR</td>\n",
              "      <td>78.75</td>\n",
              "    </tr>\n",
              "    <tr>\n",
              "      <th>2</th>\n",
              "      <td>52807659-0332-486C-99E4-84429A1830F3</td>\n",
              "      <td>2015-09-22</td>\n",
              "      <td>2015-09-22 10:54:39</td>\n",
              "      <td>14</td>\n",
              "      <td>1</td>\n",
              "      <td>Shop 490000 Orbs</td>\n",
              "      <td>49.990002</td>\n",
              "      <td>EUR</td>\n",
              "      <td>78.75</td>\n",
              "    </tr>\n",
              "    <tr>\n",
              "      <th>3</th>\n",
              "      <td>1CE1D120-D2FA-4DAF-80D2-9C5BBDCFB9A5</td>\n",
              "      <td>2015-10-17</td>\n",
              "      <td>2015-10-17 11:25:49</td>\n",
              "      <td>23</td>\n",
              "      <td>5</td>\n",
              "      <td>Shop 510 Tokens</td>\n",
              "      <td>9.990000</td>\n",
              "      <td>EUR</td>\n",
              "      <td>78.75</td>\n",
              "    </tr>\n",
              "    <tr>\n",
              "      <th>4</th>\n",
              "      <td>1CE1D120-D2FA-4DAF-80D2-9C5BBDCFB9A5</td>\n",
              "      <td>2015-10-17</td>\n",
              "      <td>2015-10-17 11:23:50</td>\n",
              "      <td>23</td>\n",
              "      <td>5</td>\n",
              "      <td>Shop 100 Tokens</td>\n",
              "      <td>1.990000</td>\n",
              "      <td>EUR</td>\n",
              "      <td>78.75</td>\n",
              "    </tr>\n",
              "  </tbody>\n",
              "</table>\n",
              "</div>"
            ],
            "text/plain": [
              "                                user_id event_date  ... money_currency  INR_conv\n",
              "0  8BF191CF-567A-4977-B2C9-90EC756EFD41 2015-10-01  ...            EUR     78.75\n",
              "1  936BAA84-CDE9-4C8F-A949-5E2CB077A9CE 2015-09-28  ...            EUR     78.75\n",
              "2  52807659-0332-486C-99E4-84429A1830F3 2015-09-22  ...            EUR     78.75\n",
              "3  1CE1D120-D2FA-4DAF-80D2-9C5BBDCFB9A5 2015-10-17  ...            EUR     78.75\n",
              "4  1CE1D120-D2FA-4DAF-80D2-9C5BBDCFB9A5 2015-10-17  ...            EUR     78.75\n",
              "\n",
              "[5 rows x 9 columns]"
            ]
          },
          "metadata": {
            "tags": []
          },
          "execution_count": 40
        }
      ]
    },
    {
      "cell_type": "code",
      "metadata": {
        "id": "MvF19qMJH1Mz",
        "colab_type": "code",
        "colab": {
          "base_uri": "https://localhost:8080/",
          "height": 204
        },
        "outputId": "3ef2e477-1ec2-46f4-9d10-5762eb6eb3f3"
      },
      "source": [
        "df_spenders[\"Money_Spent_INR\"] = df_spenders['money Spent']* df_spenders['INR_conv']\n",
        "df_spenders[[\"Pack Name\",\"Money_Spent_INR\"]].head()"
      ],
      "execution_count": 42,
      "outputs": [
        {
          "output_type": "execute_result",
          "data": {
            "text/html": [
              "<div>\n",
              "<style scoped>\n",
              "    .dataframe tbody tr th:only-of-type {\n",
              "        vertical-align: middle;\n",
              "    }\n",
              "\n",
              "    .dataframe tbody tr th {\n",
              "        vertical-align: top;\n",
              "    }\n",
              "\n",
              "    .dataframe thead th {\n",
              "        text-align: right;\n",
              "    }\n",
              "</style>\n",
              "<table border=\"1\" class=\"dataframe\">\n",
              "  <thead>\n",
              "    <tr style=\"text-align: right;\">\n",
              "      <th></th>\n",
              "      <th>Pack Name</th>\n",
              "      <th>Money_Spent_INR</th>\n",
              "    </tr>\n",
              "  </thead>\n",
              "  <tbody>\n",
              "    <tr>\n",
              "      <th>0</th>\n",
              "      <td>Shop 5750 Tokens</td>\n",
              "      <td>7874.212332</td>\n",
              "    </tr>\n",
              "    <tr>\n",
              "      <th>1</th>\n",
              "      <td>Shop 17500 Orbs</td>\n",
              "      <td>156.712501</td>\n",
              "    </tr>\n",
              "    <tr>\n",
              "      <th>2</th>\n",
              "      <td>Shop 490000 Orbs</td>\n",
              "      <td>3936.712632</td>\n",
              "    </tr>\n",
              "    <tr>\n",
              "      <th>3</th>\n",
              "      <td>Shop 510 Tokens</td>\n",
              "      <td>786.712482</td>\n",
              "    </tr>\n",
              "    <tr>\n",
              "      <th>4</th>\n",
              "      <td>Shop 100 Tokens</td>\n",
              "      <td>156.712501</td>\n",
              "    </tr>\n",
              "  </tbody>\n",
              "</table>\n",
              "</div>"
            ],
            "text/plain": [
              "          Pack Name  Money_Spent_INR\n",
              "0  Shop 5750 Tokens      7874.212332\n",
              "1   Shop 17500 Orbs       156.712501\n",
              "2  Shop 490000 Orbs      3936.712632\n",
              "3   Shop 510 Tokens       786.712482\n",
              "4   Shop 100 Tokens       156.712501"
            ]
          },
          "metadata": {
            "tags": []
          },
          "execution_count": 42
        }
      ]
    },
    {
      "cell_type": "code",
      "metadata": {
        "id": "GhU9lKnhI497",
        "colab_type": "code",
        "colab": {}
      },
      "source": [
        ""
      ],
      "execution_count": 0,
      "outputs": []
    }
  ]
}